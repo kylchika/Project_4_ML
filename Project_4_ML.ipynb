{
 "cells": [
  {
   "cell_type": "markdown",
   "id": "c353de9a",
   "metadata": {},
   "source": [
    "# Проект: классификация"
   ]
  },
  {
   "cell_type": "code",
   "execution_count": 1,
   "id": "4a6e54dc",
   "metadata": {},
   "outputs": [],
   "source": [
    "import pandas as pd\n",
    "import numpy as np\n",
    "import matplotlib.pyplot as plt\n",
    "import seaborn as sns\n",
    "from  sklearn.ensemble import IsolationForest\n",
    "import warnings\n",
    "warnings.filterwarnings('ignore')\n",
    "from sklearn.preprocessing  import LabelEncoder\n",
    "from sklearn import linear_model \n",
    "from sklearn import tree \n",
    "from sklearn import ensemble \n",
    "from sklearn import metrics \n",
    "from sklearn import preprocessing \n",
    "from sklearn.model_selection import train_test_split \n",
    "from sklearn.feature_selection import SelectKBest, f_classif"
   ]
  },
  {
   "cell_type": "markdown",
   "id": "71559b60",
   "metadata": {},
   "source": [
    "## Часть 1. Знакомство с данными, обработка пропусков и выбросов\n",
    "\n",
    "### Данные о клиентах банка:\n",
    "\n",
    "- `age` (возраст);\n",
    "- ``job`` (сфера занятости);\n",
    "- ``marital`` (семейное положение);\n",
    "- ``education`` (уровень образования);\n",
    "- ``default`` (имеется ли просроченный кредит);\n",
    "- ``housing`` (имеется ли кредит на жильё);\n",
    "- ``loan`` (имеется ли кредит на личные нужды);\n",
    "- ``balance`` (баланс).\n",
    "### Данные, связанные с последним контактом в контексте текущей маркетинговой кампании:\n",
    "\n",
    "- ``contact`` (тип контакта с клиентом);\n",
    "- ``month`` (месяц, в котором был последний контакт);\n",
    "- ``day`` (день, в который был последний контакт);\n",
    "- ``duration`` (продолжительность контакта в секундах).\n",
    "### Прочие признаки:\n",
    "\n",
    "- ``campaign`` (количество контактов с этим клиентом в течение текущей кампании);\n",
    "- ``pdays`` (количество пропущенных дней с момента последней маркетинговой кампании до контакта в текущей кампании);\n",
    "- ``previous`` (количество контактов до текущей кампании)\n",
    "- ``poutcome`` (результат прошлой маркетинговой кампании).\n",
    "- целевая переменная ``deposit``, которая определяет, согласится ли клиент открыть депозит в банке. Именно её мы будем пытаться предсказать в данном кейсе."
   ]
  },
  {
   "cell_type": "markdown",
   "id": "7c5e31b2",
   "metadata": {},
   "source": [
    "### Задание 1"
   ]
  },
  {
   "cell_type": "code",
   "execution_count": 2,
   "id": "20730cd7",
   "metadata": {},
   "outputs": [
    {
     "data": {
      "text/html": [
       "<div>\n",
       "<style scoped>\n",
       "    .dataframe tbody tr th:only-of-type {\n",
       "        vertical-align: middle;\n",
       "    }\n",
       "\n",
       "    .dataframe tbody tr th {\n",
       "        vertical-align: top;\n",
       "    }\n",
       "\n",
       "    .dataframe thead th {\n",
       "        text-align: right;\n",
       "    }\n",
       "</style>\n",
       "<table border=\"1\" class=\"dataframe\">\n",
       "  <thead>\n",
       "    <tr style=\"text-align: right;\">\n",
       "      <th></th>\n",
       "      <th>age</th>\n",
       "      <th>job</th>\n",
       "      <th>marital</th>\n",
       "      <th>education</th>\n",
       "      <th>default</th>\n",
       "      <th>balance</th>\n",
       "      <th>housing</th>\n",
       "      <th>loan</th>\n",
       "      <th>contact</th>\n",
       "      <th>day</th>\n",
       "      <th>month</th>\n",
       "      <th>duration</th>\n",
       "      <th>campaign</th>\n",
       "      <th>pdays</th>\n",
       "      <th>previous</th>\n",
       "      <th>poutcome</th>\n",
       "      <th>deposit</th>\n",
       "    </tr>\n",
       "  </thead>\n",
       "  <tbody>\n",
       "    <tr>\n",
       "      <th>0</th>\n",
       "      <td>59</td>\n",
       "      <td>admin.</td>\n",
       "      <td>married</td>\n",
       "      <td>secondary</td>\n",
       "      <td>no</td>\n",
       "      <td>2 343,00 $</td>\n",
       "      <td>yes</td>\n",
       "      <td>no</td>\n",
       "      <td>unknown</td>\n",
       "      <td>5</td>\n",
       "      <td>may</td>\n",
       "      <td>1042</td>\n",
       "      <td>1</td>\n",
       "      <td>-1</td>\n",
       "      <td>0</td>\n",
       "      <td>unknown</td>\n",
       "      <td>yes</td>\n",
       "    </tr>\n",
       "    <tr>\n",
       "      <th>1</th>\n",
       "      <td>56</td>\n",
       "      <td>admin.</td>\n",
       "      <td>married</td>\n",
       "      <td>secondary</td>\n",
       "      <td>no</td>\n",
       "      <td>45,00 $</td>\n",
       "      <td>no</td>\n",
       "      <td>no</td>\n",
       "      <td>unknown</td>\n",
       "      <td>5</td>\n",
       "      <td>may</td>\n",
       "      <td>1467</td>\n",
       "      <td>1</td>\n",
       "      <td>-1</td>\n",
       "      <td>0</td>\n",
       "      <td>unknown</td>\n",
       "      <td>yes</td>\n",
       "    </tr>\n",
       "    <tr>\n",
       "      <th>2</th>\n",
       "      <td>41</td>\n",
       "      <td>technician</td>\n",
       "      <td>married</td>\n",
       "      <td>secondary</td>\n",
       "      <td>no</td>\n",
       "      <td>1 270,00 $</td>\n",
       "      <td>yes</td>\n",
       "      <td>no</td>\n",
       "      <td>unknown</td>\n",
       "      <td>5</td>\n",
       "      <td>may</td>\n",
       "      <td>1389</td>\n",
       "      <td>1</td>\n",
       "      <td>-1</td>\n",
       "      <td>0</td>\n",
       "      <td>unknown</td>\n",
       "      <td>yes</td>\n",
       "    </tr>\n",
       "    <tr>\n",
       "      <th>3</th>\n",
       "      <td>55</td>\n",
       "      <td>services</td>\n",
       "      <td>married</td>\n",
       "      <td>secondary</td>\n",
       "      <td>no</td>\n",
       "      <td>2 476,00 $</td>\n",
       "      <td>yes</td>\n",
       "      <td>no</td>\n",
       "      <td>unknown</td>\n",
       "      <td>5</td>\n",
       "      <td>may</td>\n",
       "      <td>579</td>\n",
       "      <td>1</td>\n",
       "      <td>-1</td>\n",
       "      <td>0</td>\n",
       "      <td>unknown</td>\n",
       "      <td>yes</td>\n",
       "    </tr>\n",
       "    <tr>\n",
       "      <th>4</th>\n",
       "      <td>54</td>\n",
       "      <td>admin.</td>\n",
       "      <td>married</td>\n",
       "      <td>tertiary</td>\n",
       "      <td>no</td>\n",
       "      <td>184,00 $</td>\n",
       "      <td>no</td>\n",
       "      <td>no</td>\n",
       "      <td>unknown</td>\n",
       "      <td>5</td>\n",
       "      <td>may</td>\n",
       "      <td>673</td>\n",
       "      <td>2</td>\n",
       "      <td>-1</td>\n",
       "      <td>0</td>\n",
       "      <td>unknown</td>\n",
       "      <td>yes</td>\n",
       "    </tr>\n",
       "    <tr>\n",
       "      <th>...</th>\n",
       "      <td>...</td>\n",
       "      <td>...</td>\n",
       "      <td>...</td>\n",
       "      <td>...</td>\n",
       "      <td>...</td>\n",
       "      <td>...</td>\n",
       "      <td>...</td>\n",
       "      <td>...</td>\n",
       "      <td>...</td>\n",
       "      <td>...</td>\n",
       "      <td>...</td>\n",
       "      <td>...</td>\n",
       "      <td>...</td>\n",
       "      <td>...</td>\n",
       "      <td>...</td>\n",
       "      <td>...</td>\n",
       "      <td>...</td>\n",
       "    </tr>\n",
       "    <tr>\n",
       "      <th>11157</th>\n",
       "      <td>33</td>\n",
       "      <td>blue-collar</td>\n",
       "      <td>single</td>\n",
       "      <td>primary</td>\n",
       "      <td>no</td>\n",
       "      <td>1,00 $</td>\n",
       "      <td>yes</td>\n",
       "      <td>no</td>\n",
       "      <td>cellular</td>\n",
       "      <td>20</td>\n",
       "      <td>apr</td>\n",
       "      <td>257</td>\n",
       "      <td>1</td>\n",
       "      <td>-1</td>\n",
       "      <td>0</td>\n",
       "      <td>unknown</td>\n",
       "      <td>no</td>\n",
       "    </tr>\n",
       "    <tr>\n",
       "      <th>11158</th>\n",
       "      <td>39</td>\n",
       "      <td>services</td>\n",
       "      <td>married</td>\n",
       "      <td>secondary</td>\n",
       "      <td>no</td>\n",
       "      <td>733,00 $</td>\n",
       "      <td>no</td>\n",
       "      <td>no</td>\n",
       "      <td>unknown</td>\n",
       "      <td>16</td>\n",
       "      <td>jun</td>\n",
       "      <td>83</td>\n",
       "      <td>4</td>\n",
       "      <td>-1</td>\n",
       "      <td>0</td>\n",
       "      <td>unknown</td>\n",
       "      <td>no</td>\n",
       "    </tr>\n",
       "    <tr>\n",
       "      <th>11159</th>\n",
       "      <td>32</td>\n",
       "      <td>technician</td>\n",
       "      <td>single</td>\n",
       "      <td>secondary</td>\n",
       "      <td>no</td>\n",
       "      <td>29,00 $</td>\n",
       "      <td>no</td>\n",
       "      <td>no</td>\n",
       "      <td>cellular</td>\n",
       "      <td>19</td>\n",
       "      <td>aug</td>\n",
       "      <td>156</td>\n",
       "      <td>2</td>\n",
       "      <td>-1</td>\n",
       "      <td>0</td>\n",
       "      <td>unknown</td>\n",
       "      <td>no</td>\n",
       "    </tr>\n",
       "    <tr>\n",
       "      <th>11160</th>\n",
       "      <td>43</td>\n",
       "      <td>technician</td>\n",
       "      <td>married</td>\n",
       "      <td>secondary</td>\n",
       "      <td>no</td>\n",
       "      <td>0  $</td>\n",
       "      <td>no</td>\n",
       "      <td>yes</td>\n",
       "      <td>cellular</td>\n",
       "      <td>8</td>\n",
       "      <td>may</td>\n",
       "      <td>9</td>\n",
       "      <td>2</td>\n",
       "      <td>172</td>\n",
       "      <td>5</td>\n",
       "      <td>failure</td>\n",
       "      <td>no</td>\n",
       "    </tr>\n",
       "    <tr>\n",
       "      <th>11161</th>\n",
       "      <td>34</td>\n",
       "      <td>technician</td>\n",
       "      <td>married</td>\n",
       "      <td>secondary</td>\n",
       "      <td>no</td>\n",
       "      <td>0  $</td>\n",
       "      <td>no</td>\n",
       "      <td>no</td>\n",
       "      <td>cellular</td>\n",
       "      <td>9</td>\n",
       "      <td>jul</td>\n",
       "      <td>628</td>\n",
       "      <td>1</td>\n",
       "      <td>-1</td>\n",
       "      <td>0</td>\n",
       "      <td>unknown</td>\n",
       "      <td>no</td>\n",
       "    </tr>\n",
       "  </tbody>\n",
       "</table>\n",
       "<p>11162 rows × 17 columns</p>\n",
       "</div>"
      ],
      "text/plain": [
       "       age          job  marital  education default       balance housing  \\\n",
       "0       59       admin.  married  secondary      no   2 343,00 $      yes   \n",
       "1       56       admin.  married  secondary      no      45,00 $       no   \n",
       "2       41   technician  married  secondary      no   1 270,00 $      yes   \n",
       "3       55     services  married  secondary      no   2 476,00 $      yes   \n",
       "4       54       admin.  married   tertiary      no     184,00 $       no   \n",
       "...    ...          ...      ...        ...     ...           ...     ...   \n",
       "11157   33  blue-collar   single    primary      no       1,00 $      yes   \n",
       "11158   39     services  married  secondary      no     733,00 $       no   \n",
       "11159   32   technician   single  secondary      no      29,00 $       no   \n",
       "11160   43   technician  married  secondary      no         0  $       no   \n",
       "11161   34   technician  married  secondary      no         0  $       no   \n",
       "\n",
       "      loan   contact  day month  duration  campaign  pdays  previous poutcome  \\\n",
       "0       no   unknown    5   may      1042         1     -1         0  unknown   \n",
       "1       no   unknown    5   may      1467         1     -1         0  unknown   \n",
       "2       no   unknown    5   may      1389         1     -1         0  unknown   \n",
       "3       no   unknown    5   may       579         1     -1         0  unknown   \n",
       "4       no   unknown    5   may       673         2     -1         0  unknown   \n",
       "...    ...       ...  ...   ...       ...       ...    ...       ...      ...   \n",
       "11157   no  cellular   20   apr       257         1     -1         0  unknown   \n",
       "11158   no   unknown   16   jun        83         4     -1         0  unknown   \n",
       "11159   no  cellular   19   aug       156         2     -1         0  unknown   \n",
       "11160  yes  cellular    8   may         9         2    172         5  failure   \n",
       "11161   no  cellular    9   jul       628         1     -1         0  unknown   \n",
       "\n",
       "      deposit  \n",
       "0         yes  \n",
       "1         yes  \n",
       "2         yes  \n",
       "3         yes  \n",
       "4         yes  \n",
       "...       ...  \n",
       "11157      no  \n",
       "11158      no  \n",
       "11159      no  \n",
       "11160      no  \n",
       "11161      no  \n",
       "\n",
       "[11162 rows x 17 columns]"
      ]
     },
     "execution_count": 2,
     "metadata": {},
     "output_type": "execute_result"
    }
   ],
   "source": [
    "df = pd.read_csv('data/bank_fin.csv', sep = ';')\n",
    "df"
   ]
  },
  {
   "cell_type": "code",
   "execution_count": 3,
   "id": "ba11dc67",
   "metadata": {},
   "outputs": [
    {
     "name": "stdout",
     "output_type": "stream",
     "text": [
      "<class 'pandas.core.frame.DataFrame'>\n",
      "RangeIndex: 11162 entries, 0 to 11161\n",
      "Data columns (total 17 columns):\n",
      " #   Column     Non-Null Count  Dtype \n",
      "---  ------     --------------  ----- \n",
      " 0   age        11162 non-null  int64 \n",
      " 1   job        11162 non-null  object\n",
      " 2   marital    11162 non-null  object\n",
      " 3   education  11162 non-null  object\n",
      " 4   default    11162 non-null  object\n",
      " 5   balance    11137 non-null  object\n",
      " 6   housing    11162 non-null  object\n",
      " 7   loan       11162 non-null  object\n",
      " 8   contact    11162 non-null  object\n",
      " 9   day        11162 non-null  int64 \n",
      " 10  month      11162 non-null  object\n",
      " 11  duration   11162 non-null  int64 \n",
      " 12  campaign   11162 non-null  int64 \n",
      " 13  pdays      11162 non-null  int64 \n",
      " 14  previous   11162 non-null  int64 \n",
      " 15  poutcome   11162 non-null  object\n",
      " 16  deposit    11162 non-null  object\n",
      "dtypes: int64(6), object(11)\n",
      "memory usage: 1.4+ MB\n"
     ]
    }
   ],
   "source": [
    "# исследуйте данные на предмет пропусков. Где есть пропущенные значения? Сколько их?\n",
    "df.info() # balance 25"
   ]
  },
  {
   "cell_type": "markdown",
   "id": "6366f059",
   "metadata": {},
   "source": [
    "### Задание 2"
   ]
  },
  {
   "cell_type": "code",
   "execution_count": 4,
   "id": "98ea29d4",
   "metadata": {},
   "outputs": [
    {
     "data": {
      "text/plain": [
       "management       2566\n",
       "blue-collar      1944\n",
       "technician       1823\n",
       "admin.           1334\n",
       "services          923\n",
       "retired           778\n",
       "self-employed     405\n",
       "student           360\n",
       "unemployed        357\n",
       "entrepreneur      328\n",
       "housemaid         274\n",
       "unknown            70\n",
       "Name: job, dtype: int64"
      ]
     },
     "execution_count": 4,
     "metadata": {},
     "output_type": "execute_result"
    }
   ],
   "source": [
    "# есть ли в признаке job пропущенные значения? Возможно, они обозначены каким-то специальным словом?\n",
    "df['job'].value_counts() # unknown 70"
   ]
  },
  {
   "cell_type": "markdown",
   "id": "8fcf4fcd",
   "metadata": {},
   "source": [
    "### Задание 3"
   ]
  },
  {
   "cell_type": "code",
   "execution_count": 5,
   "id": "3a01be5e",
   "metadata": {},
   "outputs": [
    {
     "data": {
      "text/plain": [
       "1529.1290293615875"
      ]
     },
     "execution_count": 5,
     "metadata": {},
     "output_type": "execute_result"
    }
   ],
   "source": [
    "# преобразуйте признак balance таким образом, чтобы он корректно считывался, как вещественное число (float)\n",
    "def make_convert(row):\n",
    "    row = str(row)\n",
    "    if row != 'unknown':\n",
    "        row = row.replace(',00', '')\n",
    "        row = row.replace('$', '')\n",
    "        row = row.replace(' ', '')\n",
    "        return float(row)\n",
    "    else:\n",
    "        return np.nan\n",
    "\n",
    "df['balance'] = df['balance'].apply(make_convert)\n",
    "df['balance'].mean()"
   ]
  },
  {
   "cell_type": "markdown",
   "id": "6de63fd7",
   "metadata": {},
   "source": [
    "### Задание 4"
   ]
  },
  {
   "cell_type": "code",
   "execution_count": 6,
   "id": "6a684a63",
   "metadata": {},
   "outputs": [
    {
     "data": {
      "text/plain": [
       "1526.9360329690019"
      ]
     },
     "execution_count": 6,
     "metadata": {},
     "output_type": "execute_result"
    }
   ],
   "source": [
    "# обработайте пропуски в признаки balance , заменив их на медианные значения по данному признаку\n",
    "df.loc[(df['balance'].isnull()==True),'balance']= df['balance'].median()\n",
    "df['balance'].mean()"
   ]
  },
  {
   "cell_type": "markdown",
   "id": "1097ec42",
   "metadata": {},
   "source": [
    "### Задание 5"
   ]
  },
  {
   "cell_type": "code",
   "execution_count": 7,
   "id": "0fa070a6",
   "metadata": {},
   "outputs": [],
   "source": [
    "# обработайте пропуски в категориальных признаках: job и education, заменив их на модальные значения\n",
    "m_job= df['job'].mode()[0]\n",
    "df['job'] = df['job'].apply(lambda x: m_job if x == 'unknown' else x)\n",
    "\n",
    "m_education= df['education'].mode()[0]\n",
    "df['education'] = df['education'].apply(lambda x: m_education if x == 'unknown' else x)"
   ]
  },
  {
   "cell_type": "code",
   "execution_count": 8,
   "id": "4e07fcb3",
   "metadata": {},
   "outputs": [
    {
     "data": {
      "text/plain": [
       "secondary    5973\n",
       "tertiary     3689\n",
       "primary      1500\n",
       "Name: education, dtype: int64"
      ]
     },
     "execution_count": 8,
     "metadata": {},
     "output_type": "execute_result"
    }
   ],
   "source": [
    "df['education'].value_counts()# самый популярный уровнень образования - secondary"
   ]
  },
  {
   "cell_type": "code",
   "execution_count": 9,
   "id": "19cb2275",
   "metadata": {},
   "outputs": [
    {
     "data": {
      "text/plain": [
       "1598.883"
      ]
     },
     "execution_count": 9,
     "metadata": {},
     "output_type": "execute_result"
    }
   ],
   "source": [
    "# рассчитайте средний баланс для клиентов с самой популярной работой и самым популярным уровнем образования\n",
    "\n",
    "df_new = df[(df['job'] == 'management') & (df['education'] == 'secondary')]\n",
    "round(df_new['balance'].mean(),3)"
   ]
  },
  {
   "cell_type": "markdown",
   "id": "02af77c6",
   "metadata": {},
   "source": [
    "### Задание 6"
   ]
  },
  {
   "cell_type": "code",
   "execution_count": 10,
   "id": "3802cdd9",
   "metadata": {},
   "outputs": [],
   "source": [
    "# удалите все выбросы для признака balance\n",
    "def outliers_iqr(data, feature):\n",
    "    x = data[feature]\n",
    "    quartile_1, quartile_3 = x.quantile(0.25), x.quantile(0.75),\n",
    "    iqr = quartile_3 - quartile_1\n",
    "    lower_bound = quartile_1 - (iqr * 1.5)\n",
    "    upper_bound = quartile_3 + (iqr * 1.5)\n",
    "    print(f'верхняя и нижняя граница: {upper_bound,lower_bound}')\n",
    "    outliers = data[(x<lower_bound) | (x > upper_bound)]\n",
    "    cleaned = data[(x>=lower_bound) & (x <= upper_bound)]\n",
    "    return outliers, cleaned"
   ]
  },
  {
   "cell_type": "code",
   "execution_count": 11,
   "id": "ec5a2d58",
   "metadata": {},
   "outputs": [
    {
     "name": "stdout",
     "output_type": "stream",
     "text": [
      "верхняя и нижняя граница: (4063.0, -2241.0)\n",
      "Число выбросов по методу Тьюки: 1057\n",
      "Результирующее число записей: 10105\n"
     ]
    }
   ],
   "source": [
    "# Применим эту функцию к таблице df и признаку balance, а также выведем размерности результатов:\n",
    "outliers, cleaned = outliers_iqr(df, 'balance')\n",
    "\n",
    "print(f'Число выбросов по методу Тьюки: {outliers.shape[0]}')\n",
    "print(f'Результирующее число записей: {cleaned.shape[0]}')"
   ]
  },
  {
   "cell_type": "code",
   "execution_count": 12,
   "id": "e2e213ea",
   "metadata": {},
   "outputs": [
    {
     "data": {
      "image/png": "[encoded data removed]",
      "text/plain": [
       "<Figure size 1500x400 with 2 Axes>"
      ]
     },
     "metadata": {},
     "output_type": "display_data"
    }
   ],
   "source": [
    "# Согласно классическому методу Тьюки, под выбросы у нас попали 1057 записи в таблице. Давайте построим гистограмму \n",
    "# и коробчатую диаграмму на новых данных cleaned_df:\n",
    "fig, axes = plt.subplots(nrows=1, ncols=2, figsize=(15, 4))\n",
    "histplot = sns.histplot(data=cleaned, x='balance', ax=axes[0]);\n",
    "histplot.set_title('Cleaned Full Square Distribution');\n",
    "boxplot = sns.boxplot(data=cleaned, x='balance', ax=axes[1]);\n",
    "boxplot.set_title('Cleaned Full Square Boxplot');"
   ]
  },
  {
   "cell_type": "code",
   "execution_count": 13,
   "id": "226cb186",
   "metadata": {},
   "outputs": [
    {
     "data": {
      "text/html": [
       "<div>\n",
       "<style scoped>\n",
       "    .dataframe tbody tr th:only-of-type {\n",
       "        vertical-align: middle;\n",
       "    }\n",
       "\n",
       "    .dataframe tbody tr th {\n",
       "        vertical-align: top;\n",
       "    }\n",
       "\n",
       "    .dataframe thead th {\n",
       "        text-align: right;\n",
       "    }\n",
       "</style>\n",
       "<table border=\"1\" class=\"dataframe\">\n",
       "  <thead>\n",
       "    <tr style=\"text-align: right;\">\n",
       "      <th></th>\n",
       "      <th>0</th>\n",
       "    </tr>\n",
       "  </thead>\n",
       "  <tbody>\n",
       "    <tr>\n",
       "      <th>0</th>\n",
       "      <td>123.0</td>\n",
       "    </tr>\n",
       "    <tr>\n",
       "      <th>1</th>\n",
       "      <td>1699.0</td>\n",
       "    </tr>\n",
       "  </tbody>\n",
       "</table>\n",
       "</div>"
      ],
      "text/plain": [
       "        0\n",
       "0   123.0\n",
       "1  1699.0"
      ]
     },
     "execution_count": 13,
     "metadata": {},
     "output_type": "execute_result"
    }
   ],
   "source": [
    "array = np.percentile(df['balance'],[25,75])# квартиль 25 =123 и квартиль 75 = 1699.\n",
    "pd.DataFrame(array)"
   ]
  },
  {
   "cell_type": "markdown",
   "id": "5d22b8cd",
   "metadata": {},
   "source": [
    "## Часть 2:  Разведывательный анализ"
   ]
  },
  {
   "cell_type": "markdown",
   "id": "a49579ec",
   "metadata": {},
   "source": [
    "### Задание 1\n",
    "\n",
    "**Изучим распределение целевой переменной: есть ли несбалансированность классов? Чтобы это определить, вычислим частоты для открывших депозит и для тех, кто его не открыл. Сопроводим числа диаграммой, отражающей полученные результаты.**\n",
    "\n",
    "**Сколько клиентов открыли депозит?**"
   ]
  },
  {
   "cell_type": "code",
   "execution_count": 14,
   "id": "ac48b6d5",
   "metadata": {},
   "outputs": [
    {
     "data": {
      "text/plain": [
       "no     5424\n",
       "yes    4681\n",
       "Name: deposit, dtype: int64"
      ]
     },
     "execution_count": 14,
     "metadata": {},
     "output_type": "execute_result"
    }
   ],
   "source": [
    "df=cleaned\n",
    "df['deposit'].value_counts() # открыли 4681 клиент"
   ]
  },
  {
   "cell_type": "code",
   "execution_count": 15,
   "id": "85f48f13",
   "metadata": {},
   "outputs": [
    {
     "data": {
      "text/plain": [
       "<AxesSubplot:xlabel='deposit', ylabel='count'>"
      ]
     },
     "execution_count": 15,
     "metadata": {},
     "output_type": "execute_result"
    },
    {
     "data": {
      "image/png": "[encoded data removed]",
      "text/plain": [
       "<Figure size 640x480 with 1 Axes>"
      ]
     },
     "metadata": {},
     "output_type": "display_data"
    }
   ],
   "source": [
    "import seaborn as sns\n",
    "sns.set_theme(style=\"whitegrid\")\n",
    "sns.countplot(x=df['deposit'])"
   ]
  },
  {
   "cell_type": "markdown",
   "id": "426b1d40",
   "metadata": {},
   "source": [
    "### Задания 2 и 3\n",
    "\n",
    "**рассчитайте описательные статистики для количественных переменных, проинтерпретируйте результат**"
   ]
  },
  {
   "cell_type": "code",
   "execution_count": 16,
   "id": "1b62af19",
   "metadata": {},
   "outputs": [
    {
     "data": {
      "text/plain": [
       "95"
      ]
     },
     "execution_count": 16,
     "metadata": {},
     "output_type": "execute_result"
    }
   ],
   "source": [
    "# Каков максимальный возраст клиента банка?\n",
    "df['age'].max()"
   ]
  },
  {
   "cell_type": "code",
   "execution_count": 17,
   "id": "08596ce8",
   "metadata": {},
   "outputs": [
    {
     "data": {
      "text/plain": [
       "2"
      ]
     },
     "execution_count": 17,
     "metadata": {},
     "output_type": "execute_result"
    }
   ],
   "source": [
    "# Какова минимальная продолжительность разговора с клиентом банка?\n",
    "df['duration'].min()"
   ]
  },
  {
   "cell_type": "markdown",
   "id": "821dc39e",
   "metadata": {},
   "source": [
    "### Задания 4 и 5\n",
    "\n",
    "**рассчитайте описательные статистики для категориальных переменных, проинтерпретируйте результат**"
   ]
  },
  {
   "cell_type": "code",
   "execution_count": 18,
   "id": "ccdc8bf1",
   "metadata": {},
   "outputs": [
    {
     "data": {
      "text/plain": [
       "count     10105\n",
       "unique       12\n",
       "top         may\n",
       "freq       2617\n",
       "Name: month, dtype: object"
      ]
     },
     "execution_count": 18,
     "metadata": {},
     "output_type": "execute_result"
    }
   ],
   "source": [
    "# Сколько было месяцев, в которых проводилась маркетинговая кампания?\n",
    "\n",
    "df['month'].describe(include = 'object') # 12"
   ]
  },
  {
   "cell_type": "code",
   "execution_count": 19,
   "id": "c9bed2c7",
   "metadata": {},
   "outputs": [
    {
     "data": {
      "text/plain": [
       "<AxesSubplot:xlabel='month', ylabel='count'>"
      ]
     },
     "execution_count": 19,
     "metadata": {},
     "output_type": "execute_result"
    },
    {
     "data": {
      "image/png": "[encoded data removed]",
      "text/plain": [
       "<Figure size 640x480 with 1 Axes>"
      ]
     },
     "metadata": {},
     "output_type": "display_data"
    }
   ],
   "source": [
    "sns.countplot(x=df['month'])"
   ]
  },
  {
   "cell_type": "code",
   "execution_count": 20,
   "id": "ecc024ef",
   "metadata": {},
   "outputs": [
    {
     "data": {
      "text/plain": [
       "management       2315\n",
       "blue-collar      1807\n",
       "technician       1638\n",
       "admin.           1246\n",
       "services          868\n",
       "retired           663\n",
       "self-employed     358\n",
       "unemployed        332\n",
       "student           326\n",
       "entrepreneur      300\n",
       "housemaid         252\n",
       "Name: job, dtype: int64"
      ]
     },
     "execution_count": 20,
     "metadata": {},
     "output_type": "execute_result"
    }
   ],
   "source": [
    "# Сколько сфер занятости представлено среди клиентов банка?\n",
    "\n",
    "df['job'].value_counts() # 11"
   ]
  },
  {
   "cell_type": "code",
   "execution_count": 21,
   "id": "3395606d",
   "metadata": {},
   "outputs": [
    {
     "data": {
      "image/png": "[encoded data removed]",
      "text/plain": [
       "<Figure size 640x480 with 1 Axes>"
      ]
     },
     "metadata": {},
     "output_type": "display_data"
    }
   ],
   "source": [
    "countplot1=sns.countplot(x=df['job'])\n",
    "countplot1.tick_params(axis='x', rotation=70);\n",
    "countplot1.set_xlabel('Cфера занятости', fontsize=14);\n",
    "countplot1.set_ylabel('Количество клиентов', fontsize=14);\n",
    "countplot1.grid()"
   ]
  },
  {
   "cell_type": "markdown",
   "id": "472cff5b",
   "metadata": {},
   "source": [
    "### Задание 6"
   ]
  },
  {
   "cell_type": "code",
   "execution_count": 22,
   "id": "8e6beac3",
   "metadata": {
    "scrolled": false
   },
   "outputs": [
    {
     "data": {
      "text/html": [
       "<div>\n",
       "<style scoped>\n",
       "    .dataframe tbody tr th:only-of-type {\n",
       "        vertical-align: middle;\n",
       "    }\n",
       "\n",
       "    .dataframe tbody tr th {\n",
       "        vertical-align: top;\n",
       "    }\n",
       "\n",
       "    .dataframe thead th {\n",
       "        text-align: right;\n",
       "    }\n",
       "</style>\n",
       "<table border=\"1\" class=\"dataframe\">\n",
       "  <thead>\n",
       "    <tr style=\"text-align: right;\">\n",
       "      <th>deposit</th>\n",
       "      <th>no</th>\n",
       "      <th>yes</th>\n",
       "    </tr>\n",
       "    <tr>\n",
       "      <th>poutcome</th>\n",
       "      <th></th>\n",
       "      <th></th>\n",
       "    </tr>\n",
       "  </thead>\n",
       "  <tbody>\n",
       "    <tr>\n",
       "      <th>failure</th>\n",
       "      <td>562</td>\n",
       "      <td>547</td>\n",
       "    </tr>\n",
       "    <tr>\n",
       "      <th>other</th>\n",
       "      <td>216</td>\n",
       "      <td>265</td>\n",
       "    </tr>\n",
       "    <tr>\n",
       "      <th>success</th>\n",
       "      <td>84</td>\n",
       "      <td>861</td>\n",
       "    </tr>\n",
       "    <tr>\n",
       "      <th>unknown</th>\n",
       "      <td>4562</td>\n",
       "      <td>3008</td>\n",
       "    </tr>\n",
       "  </tbody>\n",
       "</table>\n",
       "</div>"
      ],
      "text/plain": [
       "deposit     no   yes\n",
       "poutcome            \n",
       "failure    562   547\n",
       "other      216   265\n",
       "success     84   861\n",
       "unknown   4562  3008"
      ]
     },
     "execution_count": 22,
     "metadata": {},
     "output_type": "execute_result"
    }
   ],
   "source": [
    "# Узнайте, для какого статуса предыдущей маркетинговой кампании успех в текущей превалирует над количеством неудач.\n",
    "# Используем группировку 'deposit' по индексу 'poutcome'\n",
    "\n",
    "types = df.groupby(\"poutcome\")['deposit'].value_counts(normalize=False).unstack()\n",
    "types # success"
   ]
  },
  {
   "cell_type": "code",
   "execution_count": 23,
   "id": "956c17e6",
   "metadata": {},
   "outputs": [
    {
     "data": {
      "text/plain": [
       "<AxesSubplot:xlabel='poutcome'>"
      ]
     },
     "execution_count": 23,
     "metadata": {},
     "output_type": "execute_result"
    },
    {
     "data": {
      "image/png": "[encoded data removed]",
      "text/plain": [
       "<Figure size 640x480 with 1 Axes>"
      ]
     },
     "metadata": {},
     "output_type": "display_data"
    }
   ],
   "source": [
    "types.plot(kind='bar', stacked='True')"
   ]
  },
  {
   "cell_type": "markdown",
   "id": "adaaa106",
   "metadata": {},
   "source": [
    "### ВЫВОД: люди, которые уже однажды согласились на предложение банка, более склонны принять его вновь."
   ]
  },
  {
   "cell_type": "markdown",
   "id": "9c32e3aa",
   "metadata": {},
   "source": [
    "### Задание 7\n",
    "\n",
    "**Рассчитаем, в каком месяце самый большой процент неудач при взаимодействии в текущей маркетинговой кампании. Возможно, этот месяц не является подходящим для проведения подобных акций, и это стоит отметить. Введем название месяца латиницей ровно так, как месяц обозначен в данных.**\n",
    "\n",
    "**Чтобы найти процент неудач для одного месяца нужно определить отношение кол-ва строк датафрейма со срезом и без него. Числитель покажет нам кол-во неудач (no) в конкретный месяц, а знаменатель общее кол-во значений (yes + no). Остается только обернуть всё в for. Для поиска уникальных значений месяцев используем np.unique(df.month)**"
   ]
  },
  {
   "cell_type": "code",
   "execution_count": 24,
   "id": "893f5c5f",
   "metadata": {},
   "outputs": [
    {
     "name": "stdout",
     "output_type": "stream",
     "text": [
      "may 67.86396637371035\n",
      "jun 54.891304347826086\n",
      "jul 58.956276445698165\n",
      "aug 55.95667870036101\n",
      "oct 18.507462686567163\n",
      "nov 58.46153846153847\n",
      "dec 9.67741935483871\n",
      "jan 60.81504702194357\n",
      "feb 45.55712270803949\n",
      "mar 10.126582278481013\n",
      "apr 38.19277108433735\n",
      "sep 16.546762589928058\n"
     ]
    }
   ],
   "source": [
    "# узнайте, в каком месяце чаще всего отказывались от предложения открыть депозит\n",
    "\n",
    "for index in df['month'].unique(): # np.unique(df.month)\n",
    "    print(index, df[(df.month == index)&(df.deposit == 'no')].shape[0]/df[(df.month == index)].shape[0]*100)# may"
   ]
  },
  {
   "cell_type": "markdown",
   "id": "daeb2fed",
   "metadata": {},
   "source": [
    "### ВЫВОД: самый маленький процент неудач при взаимодействии в текущей маркетинговой кампании и являющийся подходящим для проведения подобных акций это декабрь и март "
   ]
  },
  {
   "cell_type": "markdown",
   "id": "5f20762f",
   "metadata": {},
   "source": [
    "### Задание 8"
   ]
  },
  {
   "cell_type": "code",
   "execution_count": 25,
   "id": "0d0d9d92",
   "metadata": {},
   "outputs": [
    {
     "data": {
      "text/plain": [
       "<AxesSubplot:xlabel='age_group', ylabel='count'>"
      ]
     },
     "execution_count": 25,
     "metadata": {},
     "output_type": "execute_result"
    },
    {
     "data": {
      "image/png": "[encoded data removed]",
      "text/plain": [
       "<Figure size 640x480 with 1 Axes>"
      ]
     },
     "metadata": {},
     "output_type": "display_data"
    }
   ],
   "source": [
    "# создайте возрастные группы и определите, в каких группах более склонны открывать депозит, чем отказываться от \n",
    "# предложения в банке после рекламного предложения Для создания категорий используем метод cut()\n",
    "\n",
    "df['age_group'] = pd.cut(df.age, [0,30,40,50,60,9999], labels = ['<30','30-40','40-50','50-60','60+'])\n",
    "sns.countplot(x=\"age_group\", hue=\"deposit\", data=df) # <30 , 60+"
   ]
  },
  {
   "cell_type": "markdown",
   "id": "0841c685",
   "metadata": {},
   "source": [
    "### Задания 9 и 10"
   ]
  },
  {
   "cell_type": "code",
   "execution_count": 26,
   "id": "bf494f8b",
   "metadata": {},
   "outputs": [
    {
     "data": {
      "text/plain": [
       "<AxesSubplot:xlabel='count', ylabel='marital'>"
      ]
     },
     "execution_count": 26,
     "metadata": {},
     "output_type": "execute_result"
    },
    {
     "data": {
      "image/png": "[encoded data removed]",
      "text/plain": [
       "<Figure size 640x480 with 1 Axes>"
      ]
     },
     "metadata": {},
     "output_type": "display_data"
    }
   ],
   "source": [
    "# При каком семейном положении есть тенденция открывать депозит, а не отказываться от его открытия? Постройте \n",
    "# визуализации для открывших и неоткрывших депозит в зависимости от семейного статуса\n",
    "\n",
    "sns.countplot(y='marital', hue='deposit', data=df) # single"
   ]
  },
  {
   "cell_type": "code",
   "execution_count": 27,
   "id": "a53250b3",
   "metadata": {},
   "outputs": [
    {
     "data": {
      "text/plain": [
       "<AxesSubplot:xlabel='count', ylabel='education'>"
      ]
     },
     "execution_count": 27,
     "metadata": {},
     "output_type": "execute_result"
    },
    {
     "data": {
      "image/png": "[encoded data removed]",
      "text/plain": [
       "<Figure size 640x480 with 1 Axes>"
      ]
     },
     "metadata": {},
     "output_type": "display_data"
    }
   ],
   "source": [
    "# При каком уровень образования есть тенденция открывать депозит,постройте визуализации для открывших и \n",
    "# неоткрывших депозит в зависимости от образования\n",
    "\n",
    "sns.countplot(y='education', hue='deposit', data=df) # tertiary"
   ]
  },
  {
   "cell_type": "code",
   "execution_count": 28,
   "id": "66828be7",
   "metadata": {},
   "outputs": [
    {
     "data": {
      "text/plain": [
       "<AxesSubplot:xlabel='count', ylabel='job'>"
      ]
     },
     "execution_count": 28,
     "metadata": {},
     "output_type": "execute_result"
    },
    {
     "data": {
      "image/png": "[encoded data removed]",
      "text/plain": [
       "<Figure size 640x480 with 1 Axes>"
      ]
     },
     "metadata": {},
     "output_type": "display_data"
    }
   ],
   "source": [
    "# В какой сфере занято наибольшее число клиентов банка? Постройте визуализации для открывших и неоткрывших депозит\n",
    "# в зависимости от вида профессиональной занятости\n",
    "\n",
    "sns.countplot(y='job', hue='deposit', data=df) # management"
   ]
  },
  {
   "cell_type": "markdown",
   "id": "a521e204",
   "metadata": {},
   "source": [
    "### Задание 11\n",
    "\n",
    "**Постройте сводную таблицу, чтобы определить люди с каким образованием и семейным статусом наиболее многочисленны Пересечение каких двух категорий является самым многочисленным?Для начала отфильтруйте в отдельные таблицы тех, кто согласился открыть депозит, и тех, кто не согласился.После этого составьте сводные таблицы и визуализируйте их с помощью тепловых карт.Рекомендуется использовать crosstab()**"
   ]
  },
  {
   "cell_type": "code",
   "execution_count": 29,
   "id": "d5f6f910",
   "metadata": {},
   "outputs": [
    {
     "name": "stdout",
     "output_type": "stream",
     "text": [
      "marital    divorced  married  single\n",
      "education                           \n",
      "primary          96      339      82\n",
      "secondary       283     1289     879\n",
      "tertiary        174      784     755\n"
     ]
    },
    {
     "data": {
      "image/png": "[encoded data removed]",
      "text/plain": [
       "<Figure size 640x480 with 2 Axes>"
      ]
     },
     "metadata": {},
     "output_type": "display_data"
    }
   ],
   "source": [
    "# print(cleaned.columns)\n",
    "d_yes = df[df.deposit=='yes']\n",
    "\n",
    "crosstab_df = pd.crosstab(d_yes.education, d_yes.marital)# уровень образования и семейное положение\n",
    "\n",
    "ax = sns.heatmap(\n",
    "    crosstab_df,\n",
    "    cmap=sns.diverging_palette(20, 220, n=200),\n",
    "    square=True,\n",
    ")\n",
    "print(crosstab_df)# пересечение secondary(среднее ур.обр) и married(женатый сем.положение)"
   ]
  },
  {
   "cell_type": "code",
   "execution_count": 30,
   "id": "21eabcf7",
   "metadata": {},
   "outputs": [
    {
     "name": "stdout",
     "output_type": "stream",
     "text": [
      "marital    divorced  married  single\n",
      "education                           \n",
      "primary          91      641     100\n",
      "secondary       370     1830     866\n",
      "tertiary        163      832     531\n"
     ]
    },
    {
     "data": {
      "image/png": "[encoded data removed]",
      "text/plain": [
       "<Figure size 640x480 with 2 Axes>"
      ]
     },
     "metadata": {},
     "output_type": "display_data"
    }
   ],
   "source": [
    "d_no = df[df.deposit=='no']\n",
    "crosstab_df = pd.crosstab(d_no.education, d_no.marital)\n",
    "\n",
    "ax = sns.heatmap(\n",
    "    crosstab_df,\n",
    "    cmap=sns.diverging_palette(20, 220, n=200),\n",
    "    square=True,\n",
    ")\n",
    "print(crosstab_df)# пересечение secondary и married"
   ]
  },
  {
   "cell_type": "markdown",
   "id": "d50c2ac8",
   "metadata": {},
   "source": [
    "### ВЫВОД: Исходя из полученных данных видно что сильного различия между наиболее популярных группы для открывших депозит и для неоткрывших нет. Данные практически одинаковые для данных групп"
   ]
  },
  {
   "cell_type": "markdown",
   "id": "dfd805c0",
   "metadata": {},
   "source": [
    "## Часть 3: преобразование данных"
   ]
  },
  {
   "cell_type": "markdown",
   "id": "e44e715b",
   "metadata": {},
   "source": [
    "### Задание 1"
   ]
  },
  {
   "cell_type": "code",
   "execution_count": 31,
   "id": "1e815773",
   "metadata": {},
   "outputs": [
    {
     "data": {
      "text/plain": [
       "11995"
      ]
     },
     "execution_count": 31,
     "metadata": {},
     "output_type": "execute_result"
    }
   ],
   "source": [
    "# преобразуйте уровни образования\n",
    "# Найдите сумму получившихся значений для признака education\n",
    "\n",
    "# Создание экземпляра класса LabelEncoder()\n",
    "lab_enc = LabelEncoder() # кодировщик\n",
    "\n",
    "# Кодирование признака уровень образования\n",
    "df['education'] = lab_enc.fit_transform(df['education'])\n",
    "df['education'].sum()"
   ]
  },
  {
   "cell_type": "code",
   "execution_count": 32,
   "id": "2a2c9c68",
   "metadata": {},
   "outputs": [],
   "source": [
    "# Кодирование признака порядковой переменной для возраста\n",
    "df['age_group'] = lab_enc.fit_transform(df['age_group'])"
   ]
  },
  {
   "cell_type": "markdown",
   "id": "8c93e73d",
   "metadata": {},
   "source": [
    "### Задания 2 и 3\n",
    "\n",
    "**Обычно в задачах бинарной классификации целевую переменную кодируют как бинарный признак, который принимает значения 1 или 0. Так как наш проект будет соответствовать всем правилам хорошего тона, перекодируем переменную deposit таким образом, чтобы вместо yes она принимала значение 1, а вместо no — 0.Применим метод apply(), которому в качестве аргумента передадим анонимную функцию, определяющую способ преобразования. Стандартное отклонение можно вычислить с помощью метода std(). Также можно использовать один из кодировщиков, например LabelBinarizer.**"
   ]
  },
  {
   "cell_type": "code",
   "execution_count": 33,
   "id": "626a5762",
   "metadata": {},
   "outputs": [
    {
     "name": "stdout",
     "output_type": "stream",
     "text": [
      "Стандартное отклонение deposit:0.499\n"
     ]
    }
   ],
   "source": [
    "# преобразуйте бинарные переменные в представление из нулей и единиц\n",
    "# Вычислите стандартное отклонение по преобразованной в корректный вид целевой переменной deposit\n",
    "df['deposit'] = df['deposit'].apply(lambda x: 1 if x=='yes' else 0)\n",
    "\n",
    "import statistics\n",
    "print(f'Стандартное отклонение deposit:{round(statistics.stdev(df[\"deposit\"]), 3)}')"
   ]
  },
  {
   "cell_type": "markdown",
   "id": "0581f23c",
   "metadata": {},
   "source": [
    "**Сделаем то же самое для других бинарных переменных, которых у нас три: 'default';'housing';'loan'.Все три мы будем модифицировать ровно так же: для слова yes мы возьмём в качестве значения 1, а для no — 0 Вычислите среднее арифметическое для каждой из получившихся переменных, сложите три результата**"
   ]
  },
  {
   "cell_type": "code",
   "execution_count": 34,
   "id": "605443f5",
   "metadata": {},
   "outputs": [
    {
     "name": "stdout",
     "output_type": "stream",
     "text": [
      "Сумма средних:0.635\n"
     ]
    }
   ],
   "source": [
    "def code(x):\n",
    "    if x == 'yes': return 1\n",
    "    if x == 'no': return 0\n",
    "    \n",
    "df['default'] = df['default'].apply(code)\n",
    "df['housing'] = df['housing'].apply(code)\n",
    "df['loan'] = df['loan'].apply(code)\n",
    "\n",
    "sum_df = round(statistics.mean(df['default'])+statistics.mean(df['housing'])+statistics.mean(df['loan']), 3)\n",
    "\n",
    "print(f'Сумма средних:{sum_df}')"
   ]
  },
  {
   "cell_type": "markdown",
   "id": "c40dc02a",
   "metadata": {},
   "source": [
    "### Задание 4\n",
    "\n",
    "**Теперь нам необходимо преобразовать номинальные переменные, которые могут принимать несколько различных значений. Это следующие переменные:**\n",
    "\n",
    "- 'job';\n",
    "- 'marital';\n",
    "- 'contact';\n",
    "- 'month';\n",
    "- 'poutcome'.\n",
    "\n",
    "**Создайте для них dummy-переменные и добавьте их в набор данных.Воспользуйтесь методом get_dummies()Сколько теперь всего признаков в датасете, не считая целевую переменную? Введите ответ, посчитав уже добавленные dummy-переменные, но до удаления номинальных**"
   ]
  },
  {
   "cell_type": "code",
   "execution_count": 35,
   "id": "f92c3f8e",
   "metadata": {},
   "outputs": [
    {
     "data": {
      "text/html": [
       "<div>\n",
       "<style scoped>\n",
       "    .dataframe tbody tr th:only-of-type {\n",
       "        vertical-align: middle;\n",
       "    }\n",
       "\n",
       "    .dataframe tbody tr th {\n",
       "        vertical-align: top;\n",
       "    }\n",
       "\n",
       "    .dataframe thead th {\n",
       "        text-align: right;\n",
       "    }\n",
       "</style>\n",
       "<table border=\"1\" class=\"dataframe\">\n",
       "  <thead>\n",
       "    <tr style=\"text-align: right;\">\n",
       "      <th></th>\n",
       "      <th>age</th>\n",
       "      <th>education</th>\n",
       "      <th>default</th>\n",
       "      <th>balance</th>\n",
       "      <th>housing</th>\n",
       "      <th>loan</th>\n",
       "      <th>day</th>\n",
       "      <th>duration</th>\n",
       "      <th>campaign</th>\n",
       "      <th>pdays</th>\n",
       "      <th>...</th>\n",
       "      <th>month_jun</th>\n",
       "      <th>month_mar</th>\n",
       "      <th>month_may</th>\n",
       "      <th>month_nov</th>\n",
       "      <th>month_oct</th>\n",
       "      <th>month_sep</th>\n",
       "      <th>poutcome_failure</th>\n",
       "      <th>poutcome_other</th>\n",
       "      <th>poutcome_success</th>\n",
       "      <th>poutcome_unknown</th>\n",
       "    </tr>\n",
       "  </thead>\n",
       "  <tbody>\n",
       "    <tr>\n",
       "      <th>0</th>\n",
       "      <td>59</td>\n",
       "      <td>1</td>\n",
       "      <td>0</td>\n",
       "      <td>2343.0</td>\n",
       "      <td>1</td>\n",
       "      <td>0</td>\n",
       "      <td>5</td>\n",
       "      <td>1042</td>\n",
       "      <td>1</td>\n",
       "      <td>-1</td>\n",
       "      <td>...</td>\n",
       "      <td>0</td>\n",
       "      <td>0</td>\n",
       "      <td>1</td>\n",
       "      <td>0</td>\n",
       "      <td>0</td>\n",
       "      <td>0</td>\n",
       "      <td>0</td>\n",
       "      <td>0</td>\n",
       "      <td>0</td>\n",
       "      <td>1</td>\n",
       "    </tr>\n",
       "    <tr>\n",
       "      <th>1</th>\n",
       "      <td>56</td>\n",
       "      <td>1</td>\n",
       "      <td>0</td>\n",
       "      <td>45.0</td>\n",
       "      <td>0</td>\n",
       "      <td>0</td>\n",
       "      <td>5</td>\n",
       "      <td>1467</td>\n",
       "      <td>1</td>\n",
       "      <td>-1</td>\n",
       "      <td>...</td>\n",
       "      <td>0</td>\n",
       "      <td>0</td>\n",
       "      <td>1</td>\n",
       "      <td>0</td>\n",
       "      <td>0</td>\n",
       "      <td>0</td>\n",
       "      <td>0</td>\n",
       "      <td>0</td>\n",
       "      <td>0</td>\n",
       "      <td>1</td>\n",
       "    </tr>\n",
       "    <tr>\n",
       "      <th>2</th>\n",
       "      <td>41</td>\n",
       "      <td>1</td>\n",
       "      <td>0</td>\n",
       "      <td>1270.0</td>\n",
       "      <td>1</td>\n",
       "      <td>0</td>\n",
       "      <td>5</td>\n",
       "      <td>1389</td>\n",
       "      <td>1</td>\n",
       "      <td>-1</td>\n",
       "      <td>...</td>\n",
       "      <td>0</td>\n",
       "      <td>0</td>\n",
       "      <td>1</td>\n",
       "      <td>0</td>\n",
       "      <td>0</td>\n",
       "      <td>0</td>\n",
       "      <td>0</td>\n",
       "      <td>0</td>\n",
       "      <td>0</td>\n",
       "      <td>1</td>\n",
       "    </tr>\n",
       "    <tr>\n",
       "      <th>3</th>\n",
       "      <td>55</td>\n",
       "      <td>1</td>\n",
       "      <td>0</td>\n",
       "      <td>2476.0</td>\n",
       "      <td>1</td>\n",
       "      <td>0</td>\n",
       "      <td>5</td>\n",
       "      <td>579</td>\n",
       "      <td>1</td>\n",
       "      <td>-1</td>\n",
       "      <td>...</td>\n",
       "      <td>0</td>\n",
       "      <td>0</td>\n",
       "      <td>1</td>\n",
       "      <td>0</td>\n",
       "      <td>0</td>\n",
       "      <td>0</td>\n",
       "      <td>0</td>\n",
       "      <td>0</td>\n",
       "      <td>0</td>\n",
       "      <td>1</td>\n",
       "    </tr>\n",
       "    <tr>\n",
       "      <th>4</th>\n",
       "      <td>54</td>\n",
       "      <td>2</td>\n",
       "      <td>0</td>\n",
       "      <td>184.0</td>\n",
       "      <td>0</td>\n",
       "      <td>0</td>\n",
       "      <td>5</td>\n",
       "      <td>673</td>\n",
       "      <td>2</td>\n",
       "      <td>-1</td>\n",
       "      <td>...</td>\n",
       "      <td>0</td>\n",
       "      <td>0</td>\n",
       "      <td>1</td>\n",
       "      <td>0</td>\n",
       "      <td>0</td>\n",
       "      <td>0</td>\n",
       "      <td>0</td>\n",
       "      <td>0</td>\n",
       "      <td>0</td>\n",
       "      <td>1</td>\n",
       "    </tr>\n",
       "    <tr>\n",
       "      <th>...</th>\n",
       "      <td>...</td>\n",
       "      <td>...</td>\n",
       "      <td>...</td>\n",
       "      <td>...</td>\n",
       "      <td>...</td>\n",
       "      <td>...</td>\n",
       "      <td>...</td>\n",
       "      <td>...</td>\n",
       "      <td>...</td>\n",
       "      <td>...</td>\n",
       "      <td>...</td>\n",
       "      <td>...</td>\n",
       "      <td>...</td>\n",
       "      <td>...</td>\n",
       "      <td>...</td>\n",
       "      <td>...</td>\n",
       "      <td>...</td>\n",
       "      <td>...</td>\n",
       "      <td>...</td>\n",
       "      <td>...</td>\n",
       "      <td>...</td>\n",
       "    </tr>\n",
       "    <tr>\n",
       "      <th>10100</th>\n",
       "      <td>33</td>\n",
       "      <td>0</td>\n",
       "      <td>0</td>\n",
       "      <td>1.0</td>\n",
       "      <td>1</td>\n",
       "      <td>0</td>\n",
       "      <td>20</td>\n",
       "      <td>257</td>\n",
       "      <td>1</td>\n",
       "      <td>-1</td>\n",
       "      <td>...</td>\n",
       "      <td>0</td>\n",
       "      <td>0</td>\n",
       "      <td>0</td>\n",
       "      <td>0</td>\n",
       "      <td>0</td>\n",
       "      <td>0</td>\n",
       "      <td>0</td>\n",
       "      <td>0</td>\n",
       "      <td>0</td>\n",
       "      <td>1</td>\n",
       "    </tr>\n",
       "    <tr>\n",
       "      <th>10101</th>\n",
       "      <td>39</td>\n",
       "      <td>1</td>\n",
       "      <td>0</td>\n",
       "      <td>733.0</td>\n",
       "      <td>0</td>\n",
       "      <td>0</td>\n",
       "      <td>16</td>\n",
       "      <td>83</td>\n",
       "      <td>4</td>\n",
       "      <td>-1</td>\n",
       "      <td>...</td>\n",
       "      <td>1</td>\n",
       "      <td>0</td>\n",
       "      <td>0</td>\n",
       "      <td>0</td>\n",
       "      <td>0</td>\n",
       "      <td>0</td>\n",
       "      <td>0</td>\n",
       "      <td>0</td>\n",
       "      <td>0</td>\n",
       "      <td>1</td>\n",
       "    </tr>\n",
       "    <tr>\n",
       "      <th>10102</th>\n",
       "      <td>32</td>\n",
       "      <td>1</td>\n",
       "      <td>0</td>\n",
       "      <td>29.0</td>\n",
       "      <td>0</td>\n",
       "      <td>0</td>\n",
       "      <td>19</td>\n",
       "      <td>156</td>\n",
       "      <td>2</td>\n",
       "      <td>-1</td>\n",
       "      <td>...</td>\n",
       "      <td>0</td>\n",
       "      <td>0</td>\n",
       "      <td>0</td>\n",
       "      <td>0</td>\n",
       "      <td>0</td>\n",
       "      <td>0</td>\n",
       "      <td>0</td>\n",
       "      <td>0</td>\n",
       "      <td>0</td>\n",
       "      <td>1</td>\n",
       "    </tr>\n",
       "    <tr>\n",
       "      <th>10103</th>\n",
       "      <td>43</td>\n",
       "      <td>1</td>\n",
       "      <td>0</td>\n",
       "      <td>0.0</td>\n",
       "      <td>0</td>\n",
       "      <td>1</td>\n",
       "      <td>8</td>\n",
       "      <td>9</td>\n",
       "      <td>2</td>\n",
       "      <td>172</td>\n",
       "      <td>...</td>\n",
       "      <td>0</td>\n",
       "      <td>0</td>\n",
       "      <td>1</td>\n",
       "      <td>0</td>\n",
       "      <td>0</td>\n",
       "      <td>0</td>\n",
       "      <td>1</td>\n",
       "      <td>0</td>\n",
       "      <td>0</td>\n",
       "      <td>0</td>\n",
       "    </tr>\n",
       "    <tr>\n",
       "      <th>10104</th>\n",
       "      <td>34</td>\n",
       "      <td>1</td>\n",
       "      <td>0</td>\n",
       "      <td>0.0</td>\n",
       "      <td>0</td>\n",
       "      <td>0</td>\n",
       "      <td>9</td>\n",
       "      <td>628</td>\n",
       "      <td>1</td>\n",
       "      <td>-1</td>\n",
       "      <td>...</td>\n",
       "      <td>0</td>\n",
       "      <td>0</td>\n",
       "      <td>0</td>\n",
       "      <td>0</td>\n",
       "      <td>0</td>\n",
       "      <td>0</td>\n",
       "      <td>0</td>\n",
       "      <td>0</td>\n",
       "      <td>0</td>\n",
       "      <td>1</td>\n",
       "    </tr>\n",
       "  </tbody>\n",
       "</table>\n",
       "<p>10105 rows × 46 columns</p>\n",
       "</div>"
      ],
      "text/plain": [
       "       age  education  default  balance  housing  loan  day  duration  \\\n",
       "0       59          1        0   2343.0        1     0    5      1042   \n",
       "1       56          1        0     45.0        0     0    5      1467   \n",
       "2       41          1        0   1270.0        1     0    5      1389   \n",
       "3       55          1        0   2476.0        1     0    5       579   \n",
       "4       54          2        0    184.0        0     0    5       673   \n",
       "...    ...        ...      ...      ...      ...   ...  ...       ...   \n",
       "10100   33          0        0      1.0        1     0   20       257   \n",
       "10101   39          1        0    733.0        0     0   16        83   \n",
       "10102   32          1        0     29.0        0     0   19       156   \n",
       "10103   43          1        0      0.0        0     1    8         9   \n",
       "10104   34          1        0      0.0        0     0    9       628   \n",
       "\n",
       "       campaign  pdays  ...  month_jun  month_mar  month_may  month_nov  \\\n",
       "0             1     -1  ...          0          0          1          0   \n",
       "1             1     -1  ...          0          0          1          0   \n",
       "2             1     -1  ...          0          0          1          0   \n",
       "3             1     -1  ...          0          0          1          0   \n",
       "4             2     -1  ...          0          0          1          0   \n",
       "...         ...    ...  ...        ...        ...        ...        ...   \n",
       "10100         1     -1  ...          0          0          0          0   \n",
       "10101         4     -1  ...          1          0          0          0   \n",
       "10102         2     -1  ...          0          0          0          0   \n",
       "10103         2    172  ...          0          0          1          0   \n",
       "10104         1     -1  ...          0          0          0          0   \n",
       "\n",
       "       month_oct  month_sep  poutcome_failure  poutcome_other  \\\n",
       "0              0          0                 0               0   \n",
       "1              0          0                 0               0   \n",
       "2              0          0                 0               0   \n",
       "3              0          0                 0               0   \n",
       "4              0          0                 0               0   \n",
       "...          ...        ...               ...             ...   \n",
       "10100          0          0                 0               0   \n",
       "10101          0          0                 0               0   \n",
       "10102          0          0                 0               0   \n",
       "10103          0          0                 1               0   \n",
       "10104          0          0                 0               0   \n",
       "\n",
       "       poutcome_success  poutcome_unknown  \n",
       "0                     0                 1  \n",
       "1                     0                 1  \n",
       "2                     0                 1  \n",
       "3                     0                 1  \n",
       "4                     0                 1  \n",
       "...                 ...               ...  \n",
       "10100                 0                 1  \n",
       "10101                 0                 1  \n",
       "10102                 0                 1  \n",
       "10103                 0                 0  \n",
       "10104                 0                 1  \n",
       "\n",
       "[10105 rows x 46 columns]"
      ]
     },
     "execution_count": 35,
     "metadata": {},
     "output_type": "execute_result"
    }
   ],
   "source": [
    "# создайте дамми-переменные\n",
    "\n",
    "dummy_list = ['job', 'marital', 'contact', 'month', 'poutcome', 'age_group']\n",
    "dummied = pd.get_dummies(data=df[dummy_list])\n",
    "df.drop(dummy_list, axis=1, inplace=True)\n",
    "df = df.join(dummied, how='outer')\n",
    "df.reset_index(inplace=True, drop=True)\n",
    "df"
   ]
  },
  {
   "cell_type": "markdown",
   "id": "ad23c89b",
   "metadata": {},
   "source": [
    "**Некоторые кодировщики могут удалить признаки после кодировки. Получается, что 'job', 'marital', 'contact', 'month','poutcome' могут быть удалены из исходного датафрейма.Если сложить 46 + 5, то получим 51, где 'deposit' не в счёт. В итоге, правильный ответ 50.**"
   ]
  },
  {
   "cell_type": "markdown",
   "id": "9a23e318",
   "metadata": {},
   "source": [
    "### Задания 5 и 6"
   ]
  },
  {
   "cell_type": "code",
   "execution_count": 36,
   "id": "cca4c805",
   "metadata": {},
   "outputs": [
    {
     "data": {
      "image/png": "[encoded data removed]",
      "text/plain": [
       "<Figure size 640x480 with 1 Axes>"
      ]
     },
     "metadata": {},
     "output_type": "display_data"
    }
   ],
   "source": [
    "# постройте корреляционную матрицу и оцените данные на предмет наличия мультиколлинеарности\n",
    "\n",
    "corr = df.corr()\n",
    "\n",
    "corr[\"deposit\"].apply(lambda x: abs(x)).sort_values()[-5:-1].plot.barh()\n",
    "plt.title(\"Correlation with deposit\", fontsize = 16)\n",
    "plt.show()"
   ]
  },
  {
   "cell_type": "code",
   "execution_count": 37,
   "id": "1c884c1a",
   "metadata": {},
   "outputs": [
    {
     "data": {
      "image/png": "[encoded data removed]",
      "text/plain": [
       "<Figure size 640x480 with 2 Axes>"
      ]
     },
     "metadata": {},
     "output_type": "display_data"
    }
   ],
   "source": [
    "# Используйте метод corr(), а также сортировку, чтобы выявить наибольшие значения.\n",
    "\n",
    "dummy_data = df.corr()\n",
    "\n",
    "ax = sns.heatmap(\n",
    "    dummy_data, \n",
    "    vmin=-1, vmax=1, center=0,\n",
    "    cmap=sns.diverging_palette(20, 220, n=200),\n",
    "    square=True,\n",
    ")\n",
    "ax.set_xticklabels(\n",
    "    ax.get_xticklabels(),\n",
    "    rotation=45,\n",
    "    horizontalalignment='right'\n",
    ");"
   ]
  },
  {
   "cell_type": "markdown",
   "id": "061f3154",
   "metadata": {},
   "source": [
    "### ВЫВОД: Среди признаков мультиколлинеарности нет Будем считать достаточно сильной корреляцию не менее 0.9. Наибольшей степени коррелирующие с целевой переменной признак duration(продолжительность контакта) 0.47"
   ]
  },
  {
   "cell_type": "markdown",
   "id": "b5b4c1a5",
   "metadata": {},
   "source": [
    "### Задания 7 и 8"
   ]
  },
  {
   "cell_type": "code",
   "execution_count": 38,
   "id": "79f3e432",
   "metadata": {},
   "outputs": [],
   "source": [
    "X = df.drop(['deposit'], axis=1)\n",
    "y = df['deposit']\n",
    " \n",
    "X_train, X_test, y_train, y_test = train_test_split(X, y, stratify=y, random_state = 42, test_size = 0.33)"
   ]
  },
  {
   "cell_type": "code",
   "execution_count": 39,
   "id": "54a19ff3",
   "metadata": {},
   "outputs": [
    {
     "name": "stdout",
     "output_type": "stream",
     "text": [
      "Train shape: (6770, 45)\n",
      "Test shape: (3335, 45)\n"
     ]
    }
   ],
   "source": [
    "# Выводим размеры полученных выборок.Каким получился размер тестовой выборки?\n",
    "\n",
    "print('Train shape: {}'.format(X_train.shape))\n",
    "print('Test shape: {}'.format(X_test.shape)) # количество наблюдений в тестовом наборе данных = 3335"
   ]
  },
  {
   "cell_type": "code",
   "execution_count": 40,
   "id": "8333aa6a",
   "metadata": {},
   "outputs": [
    {
     "name": "stdout",
     "output_type": "stream",
     "text": [
      "Cреднее значение целевой переменной: 0.46\n"
     ]
    }
   ],
   "source": [
    "# Каково среднее значение целевой переменной на тестовой выборке?\n",
    "\n",
    "print('Cреднее значение целевой переменной: {}'.format((round(y_test.mean(), 2))))"
   ]
  },
  {
   "cell_type": "markdown",
   "id": "2e381a4f",
   "metadata": {},
   "source": [
    "### Задание 9"
   ]
  },
  {
   "cell_type": "code",
   "execution_count": 41,
   "id": "0f6e03e0",
   "metadata": {},
   "outputs": [
    {
     "data": {
      "text/plain": [
       "array(['balance', 'housing', 'duration', 'campaign', 'pdays', 'previous',\n",
       "       'age_group', 'contact_cellular', 'contact_unknown', 'month_mar',\n",
       "       'month_may', 'month_oct', 'month_sep', 'poutcome_success',\n",
       "       'poutcome_unknown'], dtype=object)"
      ]
     },
     "execution_count": 41,
     "metadata": {},
     "output_type": "execute_result"
    }
   ],
   "source": [
    "# с помощью SelectKBest отберите 15 наиболее подходящих признаков\n",
    "#  Oтбираем признаки:\n",
    "from sklearn.feature_selection import SelectKBest, f_classif\n",
    "\n",
    "skb = SelectKBest(score_func=f_classif, k=15)\n",
    "skb.fit(X_train, y_train)\n",
    "skb.get_feature_names_out()       # сразу получаем названия признаков"
   ]
  },
  {
   "cell_type": "code",
   "execution_count": 42,
   "id": "659875f7",
   "metadata": {},
   "outputs": [
    {
     "data": {
      "text/plain": [
       "['balance',\n",
       " 'housing',\n",
       " 'duration',\n",
       " 'campaign',\n",
       " 'pdays',\n",
       " 'previous',\n",
       " 'age_group',\n",
       " 'contact_cellular',\n",
       " 'contact_unknown',\n",
       " 'month_mar',\n",
       " 'month_may',\n",
       " 'month_oct',\n",
       " 'month_sep',\n",
       " 'poutcome_success',\n",
       " 'poutcome_unknown']"
      ]
     },
     "execution_count": 42,
     "metadata": {},
     "output_type": "execute_result"
    }
   ],
   "source": [
    "# или через itertools\n",
    "from itertools import compress\n",
    "\n",
    "skb = SelectKBest(f_classif, k=15).fit(X_train, y_train)\n",
    "mask = skb.get_support()\n",
    "name_col = X_train.columns.values\n",
    "\n",
    "list(compress(name_col, mask))"
   ]
  },
  {
   "cell_type": "markdown",
   "id": "60132ef3",
   "metadata": {},
   "source": [
    "### Задание 10\n",
    "\n",
    "**Теперь данные необходимо нормализовать.Есть разные варианты нормализации, но мы будем использовать min-max-нормализацию.Нормализация требуется для предикторов, а не для целевой переменной.Нормализуем предикторы в обучающей и тестовой выборках.Рассчитаем среднее арифметическое для первого предиктора (т. е. для первого столбца матрицы) из тестовой выборки**"
   ]
  },
  {
   "cell_type": "code",
   "execution_count": 43,
   "id": "e91b06f3",
   "metadata": {},
   "outputs": [
    {
     "name": "stdout",
     "output_type": "stream",
     "text": [
      "0.46823674223097866\n"
     ]
    }
   ],
   "source": [
    "# нормализуйте данные с помощью minmaxsxaler\n",
    "\n",
    "df = df[['balance', 'housing', 'duration', 'campaign', 'pdays', \n",
    "         'previous', 'age_group', 'contact_cellular', 'contact_unknown',\n",
    "         'month_mar', 'month_may', 'month_oct', 'month_sep', 'poutcome_success', 'poutcome_unknown', 'deposit']]\n",
    "\n",
    "X = df.drop(['deposit'], axis=1)\n",
    "y = df['deposit']\n",
    " \n",
    "X_train, X_test, y_train, y_test = train_test_split(X, y, stratify=y, random_state = 42, test_size = 0.33)\n",
    "\n",
    "#Создаем объект для min-max нормализации\n",
    "scaler = preprocessing.MinMaxScaler()\n",
    "#Вычисляем параметры для нормализации - min и max для каждого столбца\n",
    "scaler.fit(X_train)\n",
    "#Производим преобразование для каждой из выборок\n",
    "X_train_scaled = scaler.transform(X_train)\n",
    "X_test_scaled = scaler.transform(X_test)\n",
    "\n",
    "print(X_test_scaled[:, 0].mean())  # для признака balance"
   ]
  },
  {
   "cell_type": "markdown",
   "id": "0894c632",
   "metadata": {},
   "source": [
    "# Часть 4: Решение задачи классификации: логистическая регрессия и решающие деревья"
   ]
  },
  {
   "cell_type": "markdown",
   "id": "41b8ff06",
   "metadata": {},
   "source": [
    "### Задание 1"
   ]
  },
  {
   "cell_type": "code",
   "execution_count": 44,
   "id": "b940c21f",
   "metadata": {},
   "outputs": [],
   "source": [
    "# Будем использовать стохастический градиентный спуск,поэтому данные должны быть нормализованы,проводим стандартиз\n",
    "scaler = preprocessing.MinMaxScaler()\n",
    "scaler.fit(X_train)\n",
    "X_train_scaled = scaler.transform(X_train)\n",
    "X_test_scaled = scaler.transform(X_test)"
   ]
  },
  {
   "cell_type": "code",
   "execution_count": 45,
   "id": "8acc0166",
   "metadata": {},
   "outputs": [
    {
     "name": "stdout",
     "output_type": "stream",
     "text": [
      "F1 тренировочный: 0.80\n",
      "F1 тестовый: 0.78\n",
      "Accuracy тестовый: 0.81\n",
      "Precision тестовый: 0.83\n",
      "Recall тестовый: 0.74\n"
     ]
    }
   ],
   "source": [
    "# обучите логистическую регрессию и рассчитайте метрики качества\n",
    "\n",
    "#Создаем объект класса логистическая регрессия\n",
    "log_reg = linear_model.LogisticRegression(random_state=42,solver = 'sag',max_iter=1000)\n",
    "#Обучаем модель, минимизируя logloss\n",
    "log_reg.fit(X_train_scaled, y_train)\n",
    "#Делаем предсказание для тренировочной выборки с помощью predict\n",
    "y_train_pred = log_reg.predict(X_train_scaled)\n",
    "#Вывод отчет о метриках классификации\n",
    "print('F1 тренировочный: {:.2f}'.format(metrics.f1_score(y_train, y_train_pred)))\n",
    "#Делаем предсказание для тестовой выборки\n",
    "y_test_pred = log_reg.predict(X_test_scaled)\n",
    "#Вывод отчет о метриках классификации\n",
    "print('F1 тестовый: {:.2f}'.format(metrics.f1_score(y_test, y_test_pred)))\n",
    "print('Accuracy тестовый: {:.2f}'.format(metrics.accuracy_score(y_test, y_test_pred)))\n",
    "print('Precision тестовый: {:.2f}'.format(metrics.precision_score(y_test, y_test_pred)))\n",
    "print('Recall тестовый: {:.2f}'.format(metrics.recall_score(y_test, y_test_pred)))"
   ]
  },
  {
   "cell_type": "markdown",
   "id": "29b7e0ba",
   "metadata": {},
   "source": [
    "### Задания 2,3,4"
   ]
  },
  {
   "cell_type": "code",
   "execution_count": 46,
   "id": "c91a588b",
   "metadata": {},
   "outputs": [
    {
     "data": {
      "text/html": [
       "<style>#sk-container-id-1 {color: black;background-color: white;}#sk-container-id-1 pre{padding: 0;}#sk-container-id-1 div.sk-toggleable {background-color: white;}#sk-container-id-1 label.sk-toggleable__label {cursor: pointer;display: block;width: 100%;margin-bottom: 0;padding: 0.3em;box-sizing: border-box;text-align: center;}#sk-container-id-1 label.sk-toggleable__label-arrow:before {content: \"▸\";float: left;margin-right: 0.25em;color: #696969;}#sk-container-id-1 label.sk-toggleable__label-arrow:hover:before {color: black;}#sk-container-id-1 div.sk-estimator:hover label.sk-toggleable__label-arrow:before {color: black;}#sk-container-id-1 div.sk-toggleable__content {max-height: 0;max-width: 0;overflow: hidden;text-align: left;background-color: #f0f8ff;}#sk-container-id-1 div.sk-toggleable__content pre {margin: 0.2em;color: black;border-radius: 0.25em;background-color: #f0f8ff;}#sk-container-id-1 input.sk-toggleable__control:checked~div.sk-toggleable__content {max-height: 200px;max-width: 100%;overflow: auto;}#sk-container-id-1 input.sk-toggleable__control:checked~label.sk-toggleable__label-arrow:before {content: \"▾\";}#sk-container-id-1 div.sk-estimator input.sk-toggleable__control:checked~label.sk-toggleable__label {background-color: #d4ebff;}#sk-container-id-1 div.sk-label input.sk-toggleable__control:checked~label.sk-toggleable__label {background-color: #d4ebff;}#sk-container-id-1 input.sk-hidden--visually {border: 0;clip: rect(1px 1px 1px 1px);clip: rect(1px, 1px, 1px, 1px);height: 1px;margin: -1px;overflow: hidden;padding: 0;position: absolute;width: 1px;}#sk-container-id-1 div.sk-estimator {font-family: monospace;background-color: #f0f8ff;border: 1px dotted black;border-radius: 0.25em;box-sizing: border-box;margin-bottom: 0.5em;}#sk-container-id-1 div.sk-estimator:hover {background-color: #d4ebff;}#sk-container-id-1 div.sk-parallel-item::after {content: \"\";width: 100%;border-bottom: 1px solid gray;flex-grow: 1;}#sk-container-id-1 div.sk-label:hover label.sk-toggleable__label {background-color: #d4ebff;}#sk-container-id-1 div.sk-serial::before {content: \"\";position: absolute;border-left: 1px solid gray;box-sizing: border-box;top: 0;bottom: 0;left: 50%;z-index: 0;}#sk-container-id-1 div.sk-serial {display: flex;flex-direction: column;align-items: center;background-color: white;padding-right: 0.2em;padding-left: 0.2em;position: relative;}#sk-container-id-1 div.sk-item {position: relative;z-index: 1;}#sk-container-id-1 div.sk-parallel {display: flex;align-items: stretch;justify-content: center;background-color: white;position: relative;}#sk-container-id-1 div.sk-item::before, #sk-container-id-1 div.sk-parallel-item::before {content: \"\";position: absolute;border-left: 1px solid gray;box-sizing: border-box;top: 0;bottom: 0;left: 50%;z-index: -1;}#sk-container-id-1 div.sk-parallel-item {display: flex;flex-direction: column;z-index: 1;position: relative;background-color: white;}#sk-container-id-1 div.sk-parallel-item:first-child::after {align-self: flex-end;width: 50%;}#sk-container-id-1 div.sk-parallel-item:last-child::after {align-self: flex-start;width: 50%;}#sk-container-id-1 div.sk-parallel-item:only-child::after {width: 0;}#sk-container-id-1 div.sk-dashed-wrapped {border: 1px dashed gray;margin: 0 0.4em 0.5em 0.4em;box-sizing: border-box;padding-bottom: 0.4em;background-color: white;}#sk-container-id-1 div.sk-label label {font-family: monospace;font-weight: bold;display: inline-block;line-height: 1.2em;}#sk-container-id-1 div.sk-label-container {text-align: center;}#sk-container-id-1 div.sk-container {/* jupyter's `normalize.less` sets `[hidden] { display: none; }` but bootstrap.min.css set `[hidden] { display: none !important; }` so we also need the `!important` here to be able to override the default hidden behavior on the sphinx rendered scikit-learn.org. See: https://github.com/scikit-learn/scikit-learn/issues/21755 */display: inline-block !important;position: relative;}#sk-container-id-1 div.sk-text-repr-fallback {display: none;}</style><div id=\"sk-container-id-1\" class=\"sk-top-container\"><div class=\"sk-text-repr-fallback\"><pre>DecisionTreeClassifier(criterion=&#x27;entropy&#x27;, max_depth=6, random_state=42)</pre><b>In a Jupyter environment, please rerun this cell to show the HTML representation or trust the notebook. <br />On GitHub, the HTML representation is unable to render, please try loading this page with nbviewer.org.</b></div><div class=\"sk-container\" hidden><div class=\"sk-item\"><div class=\"sk-estimator sk-toggleable\"><input class=\"sk-toggleable__control sk-hidden--visually\" id=\"sk-estimator-id-1\" type=\"checkbox\" checked><label for=\"sk-estimator-id-1\" class=\"sk-toggleable__label sk-toggleable__label-arrow\">DecisionTreeClassifier</label><div class=\"sk-toggleable__content\"><pre>DecisionTreeClassifier(criterion=&#x27;entropy&#x27;, max_depth=6, random_state=42)</pre></div></div></div></div></div>"
      ],
      "text/plain": [
       "DecisionTreeClassifier(criterion='entropy', max_depth=6, random_state=42)"
      ]
     },
     "execution_count": 46,
     "metadata": {},
     "output_type": "execute_result"
    }
   ],
   "source": [
    "# обучите решающие деревья, настройте максимальную глубину\n",
    "#Создаём объект класса DecisionTreeClassifier\n",
    "dt = tree.DecisionTreeClassifier(\n",
    "    criterion='entropy',\n",
    "    random_state=42,\n",
    "    max_depth = 6\n",
    ")\n",
    "#Обучаем дерево решений по алгоритму CART\n",
    "dt.fit(X_train_scaled, y_train)"
   ]
  },
  {
   "cell_type": "code",
   "execution_count": 47,
   "id": "c99b0cdd",
   "metadata": {},
   "outputs": [
    {
     "name": "stdout",
     "output_type": "stream",
     "text": [
      "              precision    recall  f1-score   support\n",
      "\n",
      "           0       0.85      0.77      0.81      1790\n",
      "           1       0.76      0.84      0.80      1545\n",
      "\n",
      "    accuracy                           0.81      3335\n",
      "   macro avg       0.81      0.81      0.81      3335\n",
      "weighted avg       0.81      0.81      0.81      3335\n",
      "\n"
     ]
    }
   ],
   "source": [
    "#Делаем предсказание класса для всего набора данных\n",
    "y_pred_train = dt.predict(X_train_scaled)\n",
    "y_pred_test = dt.predict(X_test_scaled)\n",
    "#Выводим отчёт о метриках классификации\n",
    "print(metrics.classification_report(y_test, y_pred_test))"
   ]
  },
  {
   "cell_type": "markdown",
   "id": "fe823c18",
   "metadata": {},
   "source": [
    "### Задание 5"
   ]
  },
  {
   "cell_type": "code",
   "execution_count": 48,
   "id": "63574943",
   "metadata": {},
   "outputs": [
    {
     "name": "stdout",
     "output_type": "stream",
     "text": [
      "{'max_depth': 7, 'min_samples_split': 7}\n"
     ]
    },
    {
     "data": {
      "text/plain": [
       "0.8"
      ]
     },
     "execution_count": 48,
     "metadata": {},
     "output_type": "execute_result"
    }
   ],
   "source": [
    "# подберите оптимальные параметры с помощью gridsearch\n",
    "\n",
    "from sklearn.model_selection import GridSearchCV\n",
    "\n",
    "params = {'min_samples_split': [2, 5, 7, 10],\n",
    "          'max_depth': [3, 5, 7]}\n",
    "estimator = tree.DecisionTreeClassifier(random_state=42,\n",
    "                                        criterion='entropy')\n",
    "grid_search = GridSearchCV(\n",
    "    estimator=estimator,\n",
    "    scoring=('f1'),\n",
    "    return_train_score=True,\n",
    "    param_grid=params,\n",
    "    cv=3  # так, как до этого мы выборку делили на 2/3 и 1/3\n",
    ")\n",
    "grid_search.fit(X_train_scaled, y_train)\n",
    "print(grid_search.best_params_)\n",
    "round(metrics.f1_score(y_test, grid_search.predict(X_test_scaled)), 2)"
   ]
  },
  {
   "cell_type": "markdown",
   "id": "ed0fc831",
   "metadata": {},
   "source": [
    "# Часть 5: Решение задачи классификации: ансамбли моделей и построение прогноза"
   ]
  },
  {
   "cell_type": "markdown",
   "id": "f9e36ff2",
   "metadata": {},
   "source": [
    "### Задание 1"
   ]
  },
  {
   "cell_type": "code",
   "execution_count": 49,
   "id": "e708e3fe",
   "metadata": {},
   "outputs": [
    {
     "name": "stdout",
     "output_type": "stream",
     "text": [
      "Accuracy тестовый: 0.83\n",
      "Recall тестовый: 0.83\n",
      "              precision    recall  f1-score   support\n",
      "\n",
      "           0       0.85      0.82      0.84      1790\n",
      "           1       0.80      0.83      0.82      1545\n",
      "\n",
      "    accuracy                           0.83      3335\n",
      "   macro avg       0.83      0.83      0.83      3335\n",
      "weighted avg       0.83      0.83      0.83      3335\n",
      "\n"
     ]
    }
   ],
   "source": [
    "# обучите на ваших данных случайный лес\n",
    "#Создаём объект класса RandomForestClassifier\n",
    "rf_clf = ensemble.RandomForestClassifier(\n",
    "    n_estimators=100, #число деревьев\n",
    "    criterion='gini', #критерий эффективности\n",
    "    max_depth=10, #максимальная глубина дерева\n",
    "    min_samples_leaf = 5, \n",
    "    random_state=42 #генератор случайных чисел\n",
    ")\n",
    "#Обучаем модель \n",
    "rf_clf.fit(X_train_scaled, y_train)\n",
    " \n",
    "#Делаем предсказание класса\n",
    "y_pred = rf_clf.predict(X_test_scaled)\n",
    "#Выводим отчёт о метриках\n",
    "print('Accuracy тестовый: {:.2f}'.format(metrics.accuracy_score(y_test, y_pred)))\n",
    "print('Recall тестовый: {:.2f}'.format(metrics.recall_score(y_test, y_pred)))\n",
    "print(metrics.classification_report(y_test, y_pred))"
   ]
  },
  {
   "cell_type": "markdown",
   "id": "71d7b13d",
   "metadata": {},
   "source": [
    "### Задания 2 и 3"
   ]
  },
  {
   "cell_type": "code",
   "execution_count": 50,
   "id": "99f12dfe",
   "metadata": {},
   "outputs": [
    {
     "name": "stdout",
     "output_type": "stream",
     "text": [
      "              precision    recall  f1-score   support\n",
      "\n",
      "           0       0.85      0.82      0.84      1790\n",
      "           1       0.80      0.83      0.82      1545\n",
      "\n",
      "    accuracy                           0.83      3335\n",
      "   macro avg       0.83      0.83      0.83      3335\n",
      "weighted avg       0.83      0.83      0.83      3335\n",
      "\n",
      "F1 тестовый: 0.82\n"
     ]
    }
   ],
   "source": [
    "# используйте для классификации градиентный бустинг и сравните качество со случайным лесом\n",
    "from sklearn.ensemble import GradientBoostingClassifier\n",
    "\n",
    "gb = ensemble.GradientBoostingClassifier(\n",
    "    learning_rate=0.05,\n",
    "    n_estimators=300,\n",
    "    min_samples_leaf=5,\n",
    "    max_depth=5,\n",
    "    random_state=42\n",
    ")\n",
    "gb.fit(X_train_scaled, y_train)\n",
    "\n",
    "#Делаем предсказание класса\n",
    "y_pred = gb.predict(X_test_scaled)\n",
    "\n",
    "#Выводим отчёт о метриках\n",
    "print(metrics.classification_report(y_test, y_pred))\n",
    "print('F1 тестовый: {:.2f}'.format(metrics.f1_score(y_test, y_pred)))"
   ]
  },
  {
   "cell_type": "markdown",
   "id": "b08718ae",
   "metadata": {},
   "source": [
    "### Задание 4"
   ]
  },
  {
   "cell_type": "code",
   "execution_count": 51,
   "id": "0bd42fb0",
   "metadata": {},
   "outputs": [
    {
     "data": {
      "text/html": [
       "<style>#sk-container-id-2 {color: black;background-color: white;}#sk-container-id-2 pre{padding: 0;}#sk-container-id-2 div.sk-toggleable {background-color: white;}#sk-container-id-2 label.sk-toggleable__label {cursor: pointer;display: block;width: 100%;margin-bottom: 0;padding: 0.3em;box-sizing: border-box;text-align: center;}#sk-container-id-2 label.sk-toggleable__label-arrow:before {content: \"▸\";float: left;margin-right: 0.25em;color: #696969;}#sk-container-id-2 label.sk-toggleable__label-arrow:hover:before {color: black;}#sk-container-id-2 div.sk-estimator:hover label.sk-toggleable__label-arrow:before {color: black;}#sk-container-id-2 div.sk-toggleable__content {max-height: 0;max-width: 0;overflow: hidden;text-align: left;background-color: #f0f8ff;}#sk-container-id-2 div.sk-toggleable__content pre {margin: 0.2em;color: black;border-radius: 0.25em;background-color: #f0f8ff;}#sk-container-id-2 input.sk-toggleable__control:checked~div.sk-toggleable__content {max-height: 200px;max-width: 100%;overflow: auto;}#sk-container-id-2 input.sk-toggleable__control:checked~label.sk-toggleable__label-arrow:before {content: \"▾\";}#sk-container-id-2 div.sk-estimator input.sk-toggleable__control:checked~label.sk-toggleable__label {background-color: #d4ebff;}#sk-container-id-2 div.sk-label input.sk-toggleable__control:checked~label.sk-toggleable__label {background-color: #d4ebff;}#sk-container-id-2 input.sk-hidden--visually {border: 0;clip: rect(1px 1px 1px 1px);clip: rect(1px, 1px, 1px, 1px);height: 1px;margin: -1px;overflow: hidden;padding: 0;position: absolute;width: 1px;}#sk-container-id-2 div.sk-estimator {font-family: monospace;background-color: #f0f8ff;border: 1px dotted black;border-radius: 0.25em;box-sizing: border-box;margin-bottom: 0.5em;}#sk-container-id-2 div.sk-estimator:hover {background-color: #d4ebff;}#sk-container-id-2 div.sk-parallel-item::after {content: \"\";width: 100%;border-bottom: 1px solid gray;flex-grow: 1;}#sk-container-id-2 div.sk-label:hover label.sk-toggleable__label {background-color: #d4ebff;}#sk-container-id-2 div.sk-serial::before {content: \"\";position: absolute;border-left: 1px solid gray;box-sizing: border-box;top: 0;bottom: 0;left: 50%;z-index: 0;}#sk-container-id-2 div.sk-serial {display: flex;flex-direction: column;align-items: center;background-color: white;padding-right: 0.2em;padding-left: 0.2em;position: relative;}#sk-container-id-2 div.sk-item {position: relative;z-index: 1;}#sk-container-id-2 div.sk-parallel {display: flex;align-items: stretch;justify-content: center;background-color: white;position: relative;}#sk-container-id-2 div.sk-item::before, #sk-container-id-2 div.sk-parallel-item::before {content: \"\";position: absolute;border-left: 1px solid gray;box-sizing: border-box;top: 0;bottom: 0;left: 50%;z-index: -1;}#sk-container-id-2 div.sk-parallel-item {display: flex;flex-direction: column;z-index: 1;position: relative;background-color: white;}#sk-container-id-2 div.sk-parallel-item:first-child::after {align-self: flex-end;width: 50%;}#sk-container-id-2 div.sk-parallel-item:last-child::after {align-self: flex-start;width: 50%;}#sk-container-id-2 div.sk-parallel-item:only-child::after {width: 0;}#sk-container-id-2 div.sk-dashed-wrapped {border: 1px dashed gray;margin: 0 0.4em 0.5em 0.4em;box-sizing: border-box;padding-bottom: 0.4em;background-color: white;}#sk-container-id-2 div.sk-label label {font-family: monospace;font-weight: bold;display: inline-block;line-height: 1.2em;}#sk-container-id-2 div.sk-label-container {text-align: center;}#sk-container-id-2 div.sk-container {/* jupyter's `normalize.less` sets `[hidden] { display: none; }` but bootstrap.min.css set `[hidden] { display: none !important; }` so we also need the `!important` here to be able to override the default hidden behavior on the sphinx rendered scikit-learn.org. See: https://github.com/scikit-learn/scikit-learn/issues/21755 */display: inline-block !important;position: relative;}#sk-container-id-2 div.sk-text-repr-fallback {display: none;}</style><div id=\"sk-container-id-2\" class=\"sk-top-container\"><div class=\"sk-text-repr-fallback\"><pre>StackingClassifier(estimators=[(&#x27;dt&#x27;,\n",
       "                                DecisionTreeClassifier(criterion=&#x27;entropy&#x27;,\n",
       "                                                       max_depth=6,\n",
       "                                                       min_samples_leaf=5,\n",
       "                                                       random_state=42)),\n",
       "                               (&#x27;log_reg&#x27;,\n",
       "                                LogisticRegression(random_state=42,\n",
       "                                                   solver=&#x27;sag&#x27;)),\n",
       "                               (&#x27;gb&#x27;,\n",
       "                                GradientBoostingClassifier(learning_rate=0.05,\n",
       "                                                           max_depth=5,\n",
       "                                                           min_samples_leaf=5,\n",
       "                                                           n_estimators=300,\n",
       "                                                           random_state=42))],\n",
       "                   final_estimator=LogisticRegression(random_state=42))</pre><b>In a Jupyter environment, please rerun this cell to show the HTML representation or trust the notebook. <br />On GitHub, the HTML representation is unable to render, please try loading this page with nbviewer.org.</b></div><div class=\"sk-container\" hidden><div class=\"sk-item sk-dashed-wrapped\"><div class=\"sk-label-container\"><div class=\"sk-label sk-toggleable\"><input class=\"sk-toggleable__control sk-hidden--visually\" id=\"sk-estimator-id-2\" type=\"checkbox\" ><label for=\"sk-estimator-id-2\" class=\"sk-toggleable__label sk-toggleable__label-arrow\">StackingClassifier</label><div class=\"sk-toggleable__content\"><pre>StackingClassifier(estimators=[(&#x27;dt&#x27;,\n",
       "                                DecisionTreeClassifier(criterion=&#x27;entropy&#x27;,\n",
       "                                                       max_depth=6,\n",
       "                                                       min_samples_leaf=5,\n",
       "                                                       random_state=42)),\n",
       "                               (&#x27;log_reg&#x27;,\n",
       "                                LogisticRegression(random_state=42,\n",
       "                                                   solver=&#x27;sag&#x27;)),\n",
       "                               (&#x27;gb&#x27;,\n",
       "                                GradientBoostingClassifier(learning_rate=0.05,\n",
       "                                                           max_depth=5,\n",
       "                                                           min_samples_leaf=5,\n",
       "                                                           n_estimators=300,\n",
       "                                                           random_state=42))],\n",
       "                   final_estimator=LogisticRegression(random_state=42))</pre></div></div></div><div class=\"sk-serial\"><div class=\"sk-item\"><div class=\"sk-parallel\"><div class=\"sk-parallel-item\"><div class=\"sk-item\"><div class=\"sk-label-container\"><div class=\"sk-label sk-toggleable\"><label>dt</label></div></div><div class=\"sk-serial\"><div class=\"sk-item\"><div class=\"sk-estimator sk-toggleable\"><input class=\"sk-toggleable__control sk-hidden--visually\" id=\"sk-estimator-id-3\" type=\"checkbox\" ><label for=\"sk-estimator-id-3\" class=\"sk-toggleable__label sk-toggleable__label-arrow\">DecisionTreeClassifier</label><div class=\"sk-toggleable__content\"><pre>DecisionTreeClassifier(criterion=&#x27;entropy&#x27;, max_depth=6, min_samples_leaf=5,\n",
       "                       random_state=42)</pre></div></div></div></div></div></div><div class=\"sk-parallel-item\"><div class=\"sk-item\"><div class=\"sk-label-container\"><div class=\"sk-label sk-toggleable\"><label>log_reg</label></div></div><div class=\"sk-serial\"><div class=\"sk-item\"><div class=\"sk-estimator sk-toggleable\"><input class=\"sk-toggleable__control sk-hidden--visually\" id=\"sk-estimator-id-4\" type=\"checkbox\" ><label for=\"sk-estimator-id-4\" class=\"sk-toggleable__label sk-toggleable__label-arrow\">LogisticRegression</label><div class=\"sk-toggleable__content\"><pre>LogisticRegression(random_state=42, solver=&#x27;sag&#x27;)</pre></div></div></div></div></div></div><div class=\"sk-parallel-item\"><div class=\"sk-item\"><div class=\"sk-label-container\"><div class=\"sk-label sk-toggleable\"><label>gb</label></div></div><div class=\"sk-serial\"><div class=\"sk-item\"><div class=\"sk-estimator sk-toggleable\"><input class=\"sk-toggleable__control sk-hidden--visually\" id=\"sk-estimator-id-5\" type=\"checkbox\" ><label for=\"sk-estimator-id-5\" class=\"sk-toggleable__label sk-toggleable__label-arrow\">GradientBoostingClassifier</label><div class=\"sk-toggleable__content\"><pre>GradientBoostingClassifier(learning_rate=0.05, max_depth=5, min_samples_leaf=5,\n",
       "                           n_estimators=300, random_state=42)</pre></div></div></div></div></div></div></div></div><div class=\"sk-item\"><div class=\"sk-parallel\"><div class=\"sk-parallel-item\"><div class=\"sk-item\"><div class=\"sk-label-container\"><div class=\"sk-label sk-toggleable\"><label>final_estimator</label></div></div><div class=\"sk-serial\"><div class=\"sk-item\"><div class=\"sk-estimator sk-toggleable\"><input class=\"sk-toggleable__control sk-hidden--visually\" id=\"sk-estimator-id-6\" type=\"checkbox\" ><label for=\"sk-estimator-id-6\" class=\"sk-toggleable__label sk-toggleable__label-arrow\">LogisticRegression</label><div class=\"sk-toggleable__content\"><pre>LogisticRegression(random_state=42)</pre></div></div></div></div></div></div></div></div></div></div></div></div>"
      ],
      "text/plain": [
       "StackingClassifier(estimators=[('dt',\n",
       "                                DecisionTreeClassifier(criterion='entropy',\n",
       "                                                       max_depth=6,\n",
       "                                                       min_samples_leaf=5,\n",
       "                                                       random_state=42)),\n",
       "                               ('log_reg',\n",
       "                                LogisticRegression(random_state=42,\n",
       "                                                   solver='sag')),\n",
       "                               ('gb',\n",
       "                                GradientBoostingClassifier(learning_rate=0.05,\n",
       "                                                           max_depth=5,\n",
       "                                                           min_samples_leaf=5,\n",
       "                                                           n_estimators=300,\n",
       "                                                           random_state=42))],\n",
       "                   final_estimator=LogisticRegression(random_state=42))"
      ]
     },
     "execution_count": 51,
     "metadata": {},
     "output_type": "execute_result"
    }
   ],
   "source": [
    "# объедините уже известные вам алгоритмы с помощью стекинга \n",
    "\n",
    "estimators = [\n",
    "    ('dt', tree.DecisionTreeClassifier(\n",
    "        criterion='entropy',\n",
    "        min_samples_leaf=5,\n",
    "        max_depth=6,\n",
    "        random_state=42\n",
    "        )\n",
    "    ),\n",
    "    ('log_reg', linear_model.LogisticRegression(\n",
    "        solver='sag',\n",
    "        random_state=42 \n",
    "        )\n",
    "    ),\n",
    "    ('gb', ensemble.GradientBoostingClassifier(\n",
    "        learning_rate=0.05,\n",
    "        n_estimators=300,\n",
    "        min_samples_leaf=5,\n",
    "        max_depth=5,\n",
    "        random_state=42\n",
    "        )\n",
    "    )\n",
    "]\n",
    "\n",
    "stack = ensemble.StackingClassifier(\n",
    "    estimators,\n",
    "    final_estimator=linear_model.LogisticRegression(random_state=42)\n",
    ")\n",
    "stack.fit(X_train_scaled, y_train)"
   ]
  },
  {
   "cell_type": "code",
   "execution_count": 52,
   "id": "596b0850",
   "metadata": {},
   "outputs": [
    {
     "name": "stdout",
     "output_type": "stream",
     "text": [
      "Precision тестовый: 0.81\n"
     ]
    }
   ],
   "source": [
    "#Делаем предсказание класса\n",
    "y_pred = stack.predict(X_test_scaled)\n",
    "print('Precision тестовый: {:.2f}'.format(metrics.precision_score(y_test, y_pred)))"
   ]
  },
  {
   "cell_type": "markdown",
   "id": "6247a5fb",
   "metadata": {},
   "source": [
    "### Задание 5"
   ]
  },
  {
   "cell_type": "code",
   "execution_count": 53,
   "id": "af2ac01f",
   "metadata": {},
   "outputs": [
    {
     "name": "stdout",
     "output_type": "stream",
     "text": [
      "['duration' 'contact_unknown' 'poutcome_success']\n",
      "Index(['balance', 'housing', 'duration', 'campaign', 'pdays', 'previous',\n",
      "       'age_group', 'contact_cellular', 'contact_unknown', 'month_mar',\n",
      "       'month_may', 'month_oct', 'month_sep', 'poutcome_success',\n",
      "       'poutcome_unknown'],\n",
      "      dtype='object')\n"
     ]
    },
    {
     "data": {
      "text/plain": [
       "array([ 6,  3,  1,  9,  2, 12,  4, 13,  1,  5, 11,  7,  8,  1, 10])"
      ]
     },
     "execution_count": 53,
     "metadata": {},
     "output_type": "execute_result"
    }
   ],
   "source": [
    "# оцените, какие признаки демонстрируют наибольшую  важность в модели градиентного бустинга\n",
    "\n",
    "from sklearn.feature_selection import RFE\n",
    "estimator = GradientBoostingClassifier()\n",
    "selector = RFE(estimator, n_features_to_select=3, step=1)\n",
    "selector = selector.fit(X_train, y_train)\n",
    "\n",
    "print(selector.get_feature_names_out())\n",
    "print(X_train.columns)\n",
    "selector.ranking_"
   ]
  },
  {
   "cell_type": "markdown",
   "id": "1a5f4300",
   "metadata": {},
   "source": [
    "### Наибольшую важность  демонстрируют признаки по убыванию : duration, poutcome_success,contact_unknown"
   ]
  },
  {
   "cell_type": "markdown",
   "id": "96974dda",
   "metadata": {},
   "source": [
    "### Задания 6,7,8"
   ]
  },
  {
   "cell_type": "code",
   "execution_count": 54,
   "id": "309252e1",
   "metadata": {},
   "outputs": [
    {
     "name": "stdout",
     "output_type": "stream",
     "text": [
      "Версия Optuna: 2.10.1\n"
     ]
    }
   ],
   "source": [
    "import optuna\n",
    "\n",
    "print(\"Версия Optuna: {}\".format(optuna.__version__))"
   ]
  },
  {
   "cell_type": "code",
   "execution_count": 55,
   "id": "c48e29e9",
   "metadata": {},
   "outputs": [
    {
     "name": "stderr",
     "output_type": "stream",
     "text": [
      "\u001b[32m[I 2022-11-01 17:40:25,343]\u001b[0m A new study created in memory with name: RandomForestClassifier\u001b[0m\n",
      "\u001b[32m[I 2022-11-01 17:40:29,865]\u001b[0m Trial 5 finished with value: 0.8451236804789666 and parameters: {'n_estimators': 119, 'max_depth': 19, 'min_samples_leaf': 10}. Best is trial 5 with value: 0.8451236804789666.\u001b[0m\n",
      "\u001b[32m[I 2022-11-01 17:40:30,284]\u001b[0m Trial 1 finished with value: 0.888888888888889 and parameters: {'n_estimators': 135, 'max_depth': 19, 'min_samples_leaf': 3}. Best is trial 1 with value: 0.888888888888889.\u001b[0m\n",
      "\u001b[32m[I 2022-11-01 17:40:30,570]\u001b[0m Trial 7 finished with value: 0.853978159126365 and parameters: {'n_estimators': 149, 'max_depth': 26, 'min_samples_leaf': 8}. Best is trial 1 with value: 0.888888888888889.\u001b[0m\n",
      "\u001b[32m[I 2022-11-01 17:40:30,597]\u001b[0m Trial 3 finished with value: 0.8666041861918151 and parameters: {'n_estimators': 150, 'max_depth': 19, 'min_samples_leaf': 5}. Best is trial 1 with value: 0.888888888888889.\u001b[0m\n",
      "\u001b[32m[I 2022-11-01 17:40:30,861]\u001b[0m Trial 6 finished with value: 0.9200816454702465 and parameters: {'n_estimators': 153, 'max_depth': 21, 'min_samples_leaf': 2}. Best is trial 6 with value: 0.9200816454702465.\u001b[0m\n",
      "\u001b[32m[I 2022-11-01 17:40:31,349]\u001b[0m Trial 0 finished with value: 0.8548664271207624 and parameters: {'n_estimators': 184, 'max_depth': 21, 'min_samples_leaf': 8}. Best is trial 6 with value: 0.9200816454702465.\u001b[0m\n",
      "\u001b[32m[I 2022-11-01 17:40:31,411]\u001b[0m Trial 2 finished with value: 0.8445490196078431 and parameters: {'n_estimators': 189, 'max_depth': 11, 'min_samples_leaf': 10}. Best is trial 6 with value: 0.9200816454702465.\u001b[0m\n",
      "\u001b[32m[I 2022-11-01 17:40:31,657]\u001b[0m Trial 4 finished with value: 0.8836625901536532 and parameters: {'n_estimators': 187, 'max_depth': 13, 'min_samples_leaf': 2}. Best is trial 6 with value: 0.9200816454702465.\u001b[0m\n",
      "\u001b[32m[I 2022-11-01 17:40:33,840]\u001b[0m Trial 8 finished with value: 0.8676769254803937 and parameters: {'n_estimators': 119, 'max_depth': 28, 'min_samples_leaf': 5}. Best is trial 6 with value: 0.9200816454702465.\u001b[0m\n",
      "\u001b[32m[I 2022-11-01 17:40:34,980]\u001b[0m Trial 9 finished with value: 0.9114640666771506 and parameters: {'n_estimators': 133, 'max_depth': 18, 'min_samples_leaf': 2}. Best is trial 6 with value: 0.9200816454702465.\u001b[0m\n",
      "\u001b[32m[I 2022-11-01 17:40:35,221]\u001b[0m Trial 13 finished with value: 0.895315938384156 and parameters: {'n_estimators': 106, 'max_depth': 15, 'min_samples_leaf': 2}. Best is trial 6 with value: 0.9200816454702465.\u001b[0m\n",
      "\u001b[32m[I 2022-11-01 17:40:35,889]\u001b[0m Trial 12 finished with value: 0.866739571941884 and parameters: {'n_estimators': 150, 'max_depth': 26, 'min_samples_leaf': 5}. Best is trial 6 with value: 0.9200816454702465.\u001b[0m\n",
      "\u001b[32m[I 2022-11-01 17:40:36,192]\u001b[0m Trial 11 finished with value: 0.850797622771348 and parameters: {'n_estimators': 174, 'max_depth': 17, 'min_samples_leaf': 9}. Best is trial 6 with value: 0.9200816454702465.\u001b[0m\n",
      "\u001b[32m[I 2022-11-01 17:40:36,448]\u001b[0m Trial 15 finished with value: 0.8448275862068966 and parameters: {'n_estimators': 156, 'max_depth': 11, 'min_samples_leaf': 10}. Best is trial 6 with value: 0.9200816454702465.\u001b[0m\n",
      "\u001b[32m[I 2022-11-01 17:40:36,508]\u001b[0m Trial 10 finished with value: 0.8582983356665111 and parameters: {'n_estimators': 190, 'max_depth': 23, 'min_samples_leaf': 7}. Best is trial 6 with value: 0.9200816454702465.\u001b[0m\n",
      "\u001b[32m[I 2022-11-01 17:40:36,700]\u001b[0m Trial 14 finished with value: 0.843362136684996 and parameters: {'n_estimators': 179, 'max_depth': 10, 'min_samples_leaf': 8}. Best is trial 6 with value: 0.9200816454702465.\u001b[0m\n",
      "\u001b[32m[I 2022-11-01 17:40:37,269]\u001b[0m Trial 17 finished with value: 0.8763693270735525 and parameters: {'n_estimators': 101, 'max_depth': 24, 'min_samples_leaf': 4}. Best is trial 6 with value: 0.9200816454702465.\u001b[0m\n",
      "\u001b[32m[I 2022-11-01 17:40:37,278]\u001b[0m Trial 16 finished with value: 0.8455029771231589 and parameters: {'n_estimators': 151, 'max_depth': 23, 'min_samples_leaf': 10}. Best is trial 6 with value: 0.9200816454702465.\u001b[0m\n",
      "\u001b[32m[I 2022-11-01 17:40:37,606]\u001b[0m Trial 18 finished with value: 0.8795369211514393 and parameters: {'n_estimators': 166, 'max_depth': 24, 'min_samples_leaf': 4}. Best is trial 6 with value: 0.9200816454702465.\u001b[0m\n",
      "\u001b[32m[I 2022-11-01 17:40:37,655]\u001b[0m Trial 19 finished with value: 0.8941691417852119 and parameters: {'n_estimators': 168, 'max_depth': 22, 'min_samples_leaf': 3}. Best is trial 6 with value: 0.9200816454702465.\u001b[0m\n"
     ]
    }
   ],
   "source": [
    "# реализуйте оптимизацию гиперпараметров с помощью Optuna\n",
    "\n",
    "def optuna_rf(trial):\n",
    "  # задаем пространства поиска гиперпараметров\n",
    "  n_estimators = trial.suggest_int('n_estimators', 100, 200, 1)\n",
    "  max_depth = trial.suggest_int('max_depth', 10, 30, 1)\n",
    "  min_samples_leaf = trial.suggest_int('min_samples_leaf', 2, 10, 1)\n",
    "\n",
    "  # создаем модель\n",
    "  model = ensemble.RandomForestClassifier(n_estimators=n_estimators,\n",
    "                                          max_depth=max_depth,\n",
    "                                          min_samples_leaf=min_samples_leaf,\n",
    "                                          n_jobs=-1,\n",
    "                                          random_state=42)\n",
    "  # обучаем модель\n",
    "  model.fit(X_train_scaled, y_train)\n",
    "  score = metrics.f1_score(y_train, model.predict(X_train_scaled))\n",
    "\n",
    "  return score\n",
    "\n",
    "# cоздаем объект исследования\n",
    "# можем напрямую указать, что нам необходимо максимизировать метрику direction=\"maximize\"\n",
    "study = optuna.create_study(study_name=\"RandomForestClassifier\", direction=\"maximize\")\n",
    "# ищем лучшую комбинацию гиперпараметров n_trials раз\n",
    "study.optimize(optuna_rf, n_trials=20, n_jobs=-1)"
   ]
  },
  {
   "cell_type": "code",
   "execution_count": 56,
   "id": "2f85c94a",
   "metadata": {},
   "outputs": [
    {
     "name": "stdout",
     "output_type": "stream",
     "text": [
      "Наилучшие значения гиперпараметров {'n_estimators': 153, 'max_depth': 21, 'min_samples_leaf': 2}\n",
      "f1_score на обучающем наборе: 0.92\n"
     ]
    }
   ],
   "source": [
    "# выводим результаты на обучающей выборке\n",
    "print(\"Наилучшие значения гиперпараметров {}\".format(study.best_params))\n",
    "print(\"f1_score на обучающем наборе: {:.2f}\".format(study.best_value))"
   ]
  },
  {
   "cell_type": "code",
   "execution_count": 58,
   "id": "49fcb470",
   "metadata": {},
   "outputs": [
    {
     "name": "stdout",
     "output_type": "stream",
     "text": [
      "Accuracy тестовый: 0.83\n"
     ]
    }
   ],
   "source": [
    "# рассчитаем точность для тестовой выборки\n",
    "\n",
    "model = ensemble.RandomForestClassifier(**study.best_params,random_state=42)\n",
    "model.fit(X_train_scaled, y_train)\n",
    "y_test_pred = model.predict(X_test_scaled)\n",
    "\n",
    "print('Accuracy тестовый: {:.2f}'.format(metrics.accuracy_score(y_test, y_test_pred)))"
   ]
  },
  {
   "cell_type": "code",
   "execution_count": null,
   "id": "cdc60a5f",
   "metadata": {},
   "outputs": [],
   "source": []
  }
 ],
 "metadata": {
  "kernelspec": {
   "display_name": "Python 3 (ipykernel)",
   "language": "python",
   "name": "python3"
  },
  "language_info": {
   "codemirror_mode": {
    "name": "ipython",
    "version": 3
   },
   "file_extension": ".py",
   "mimetype": "text/x-python",
   "name": "python",
   "nbconvert_exporter": "python",
   "pygments_lexer": "ipython3",
   "version": "3.9.7"
  }
 },
 "nbformat": 4,
 "nbformat_minor": 5
}
